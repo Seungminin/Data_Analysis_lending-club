{
 "cells": [
  {
   "cell_type": "code",
   "execution_count": 2,
   "id": "2151a94c",
   "metadata": {},
   "outputs": [],
   "source": [
    "import pandas as pd\n",
    "import matplotlib.pyplot as plt\n",
    "import numpy as np\n",
    "\n",
    "from sklearn.preprocessing import LabelEncoder, MinMaxScaler\n",
    "from sklearn.preprocessing import StandardScaler\n",
    "from imblearn.under_sampling import RandomUnderSampler\n",
    "from sklearn.model_selection import train_test_split\n",
    "from sklearn.utils import shuffle\n",
    "\n",
    "from sklearn.linear_model import LinearRegression\n",
    "from sklearn.metrics import mean_squared_error, r2_score\n",
    "\n",
    "from sklearn.metrics import roc_curve, auc, log_loss\n",
    "from sklearn.metrics import classification_report, precision_recall_curve, auc\n",
    "from lightgbm import LGBMClassifier\n",
    "from xgboost import XGBClassifier\n",
    "from sklearn.metrics import accuracy_score\n",
    "from tqdm import tqdm\n",
    "\n",
    "import torch \n",
    "import os\n",
    "import torch\n",
    "\n",
    "import warnings\n",
    "warnings.filterwarnings(\"ignore\")"
   ]
  },
  {
   "cell_type": "code",
   "execution_count": 3,
   "id": "15d41315",
   "metadata": {},
   "outputs": [
    {
     "name": "stdout",
     "output_type": "stream",
     "text": [
      "cuda\n"
     ]
    }
   ],
   "source": [
    "is_cuda = torch.cuda.is_available()\n",
    "device = torch.device('cuda' if is_cuda else 'cpu')\n",
    "\n",
    "print(device)"
   ]
  },
  {
   "cell_type": "code",
   "execution_count": 4,
   "id": "124f4300",
   "metadata": {},
   "outputs": [],
   "source": [
    "## Load original data\n",
    "data_path = \"C:/Users/GCU/Lending_club/Data_Analysis_lending-club/Dataset/return_feature_train.csv\"\n",
    "data = pd.read_csv(data_path, low_memory=False)\n",
    "\n",
    "##load test data\n",
    "test_data_path = \"C:/Users/GCU/Lending_club/Data_Analysis_lending-club/Dataset/return_feature_test.csv\"\n",
    "test_data = pd.read_csv(test_data_path)"
   ]
  },
  {
   "cell_type": "code",
   "execution_count": 5,
   "id": "9d520f37",
   "metadata": {},
   "outputs": [],
   "source": [
    "keep_features = ['grade', 'term_months', 'total_pymnt', 'total_pymnt_inv','total_il_high_credit_limit', 'loan_amnt']\n",
    "\n",
    "data_classification = data.copy()\n",
    "test_classification = test_data.copy()\n",
    "\n",
    "data_classification = data_classification.drop(columns = keep_features)\n",
    "test_classification = test_classification.drop(columns = keep_features)"
   ]
  },
  {
   "cell_type": "code",
   "execution_count": 6,
   "id": "819c7a1c",
   "metadata": {},
   "outputs": [
    {
     "data": {
      "text/html": [
       "<div>\n",
       "<style scoped>\n",
       "    .dataframe tbody tr th:only-of-type {\n",
       "        vertical-align: middle;\n",
       "    }\n",
       "\n",
       "    .dataframe tbody tr th {\n",
       "        vertical-align: top;\n",
       "    }\n",
       "\n",
       "    .dataframe thead th {\n",
       "        text-align: right;\n",
       "    }\n",
       "</style>\n",
       "<table border=\"1\" class=\"dataframe\">\n",
       "  <thead>\n",
       "    <tr style=\"text-align: right;\">\n",
       "      <th></th>\n",
       "      <th>last_fico_range_high</th>\n",
       "      <th>mo_sin_old_rev_tl_op</th>\n",
       "      <th>int_rate</th>\n",
       "      <th>annual_inc</th>\n",
       "      <th>dti</th>\n",
       "      <th>installment</th>\n",
       "      <th>zip_code</th>\n",
       "      <th>revol_util</th>\n",
       "      <th>fico_range_low</th>\n",
       "      <th>total_rev_hi_lim</th>\n",
       "      <th>revol_bal</th>\n",
       "      <th>bc_util</th>\n",
       "      <th>avg_cur_bal</th>\n",
       "      <th>credit_history_years</th>\n",
       "      <th>loan_status</th>\n",
       "    </tr>\n",
       "  </thead>\n",
       "  <tbody>\n",
       "    <tr>\n",
       "      <th>0</th>\n",
       "      <td>744.0</td>\n",
       "      <td>126.0</td>\n",
       "      <td>0.0917</td>\n",
       "      <td>50000.0</td>\n",
       "      <td>4.66</td>\n",
       "      <td>140.27</td>\n",
       "      <td>622.0</td>\n",
       "      <td>0.768</td>\n",
       "      <td>710.0</td>\n",
       "      <td>7700.0</td>\n",
       "      <td>5913.0</td>\n",
       "      <td>76.8</td>\n",
       "      <td>64898.0</td>\n",
       "      <td>11</td>\n",
       "      <td>0</td>\n",
       "    </tr>\n",
       "    <tr>\n",
       "      <th>1</th>\n",
       "      <td>739.0</td>\n",
       "      <td>151.0</td>\n",
       "      <td>0.1249</td>\n",
       "      <td>60000.0</td>\n",
       "      <td>16.14</td>\n",
       "      <td>568.64</td>\n",
       "      <td>800.0</td>\n",
       "      <td>0.865</td>\n",
       "      <td>685.0</td>\n",
       "      <td>27700.0</td>\n",
       "      <td>23949.0</td>\n",
       "      <td>87.1</td>\n",
       "      <td>1831.0</td>\n",
       "      <td>12</td>\n",
       "      <td>0</td>\n",
       "    </tr>\n",
       "    <tr>\n",
       "      <th>2</th>\n",
       "      <td>614.0</td>\n",
       "      <td>292.0</td>\n",
       "      <td>0.0819</td>\n",
       "      <td>75000.0</td>\n",
       "      <td>24.67</td>\n",
       "      <td>244.41</td>\n",
       "      <td>350.0</td>\n",
       "      <td>0.858</td>\n",
       "      <td>680.0</td>\n",
       "      <td>20300.0</td>\n",
       "      <td>17425.0</td>\n",
       "      <td>96.3</td>\n",
       "      <td>19333.0</td>\n",
       "      <td>24</td>\n",
       "      <td>0</td>\n",
       "    </tr>\n",
       "    <tr>\n",
       "      <th>3</th>\n",
       "      <td>604.0</td>\n",
       "      <td>206.0</td>\n",
       "      <td>0.2449</td>\n",
       "      <td>67500.0</td>\n",
       "      <td>15.81</td>\n",
       "      <td>492.45</td>\n",
       "      <td>301.0</td>\n",
       "      <td>0.396</td>\n",
       "      <td>675.0</td>\n",
       "      <td>53300.0</td>\n",
       "      <td>21088.0</td>\n",
       "      <td>39.4</td>\n",
       "      <td>6661.0</td>\n",
       "      <td>17</td>\n",
       "      <td>1</td>\n",
       "    </tr>\n",
       "    <tr>\n",
       "      <th>4</th>\n",
       "      <td>654.0</td>\n",
       "      <td>424.0</td>\n",
       "      <td>0.1199</td>\n",
       "      <td>70000.0</td>\n",
       "      <td>23.70</td>\n",
       "      <td>332.10</td>\n",
       "      <td>770.0</td>\n",
       "      <td>0.847</td>\n",
       "      <td>660.0</td>\n",
       "      <td>22725.0</td>\n",
       "      <td>19249.0</td>\n",
       "      <td>94.9</td>\n",
       "      <td>25393.0</td>\n",
       "      <td>36</td>\n",
       "      <td>0</td>\n",
       "    </tr>\n",
       "  </tbody>\n",
       "</table>\n",
       "</div>"
      ],
      "text/plain": [
       "   last_fico_range_high  mo_sin_old_rev_tl_op  int_rate  annual_inc    dti  \\\n",
       "0                 744.0                 126.0    0.0917     50000.0   4.66   \n",
       "1                 739.0                 151.0    0.1249     60000.0  16.14   \n",
       "2                 614.0                 292.0    0.0819     75000.0  24.67   \n",
       "3                 604.0                 206.0    0.2449     67500.0  15.81   \n",
       "4                 654.0                 424.0    0.1199     70000.0  23.70   \n",
       "\n",
       "   installment  zip_code  revol_util  fico_range_low  total_rev_hi_lim  \\\n",
       "0       140.27     622.0       0.768           710.0            7700.0   \n",
       "1       568.64     800.0       0.865           685.0           27700.0   \n",
       "2       244.41     350.0       0.858           680.0           20300.0   \n",
       "3       492.45     301.0       0.396           675.0           53300.0   \n",
       "4       332.10     770.0       0.847           660.0           22725.0   \n",
       "\n",
       "   revol_bal  bc_util  avg_cur_bal  credit_history_years  loan_status  \n",
       "0     5913.0     76.8      64898.0                    11            0  \n",
       "1    23949.0     87.1       1831.0                    12            0  \n",
       "2    17425.0     96.3      19333.0                    24            0  \n",
       "3    21088.0     39.4       6661.0                    17            1  \n",
       "4    19249.0     94.9      25393.0                    36            0  "
      ]
     },
     "execution_count": 6,
     "metadata": {},
     "output_type": "execute_result"
    }
   ],
   "source": [
    "data_classification.head()"
   ]
  },
  {
   "cell_type": "code",
   "execution_count": 7,
   "id": "715eed79",
   "metadata": {},
   "outputs": [],
   "source": [
    "data_x = data_classification.drop(columns='loan_status')\n",
    "data_y = data_classification[['loan_status']]\n",
    "\n",
    "X_train, X_val, y_train, y_val = train_test_split(data_x, data_y, train_size=0.8, test_size=0.2, random_state=42, stratify=data_y)"
   ]
  },
  {
   "cell_type": "code",
   "execution_count": 8,
   "id": "bd21195b",
   "metadata": {},
   "outputs": [],
   "source": [
    "train_classification = pd.concat([X_train, y_train], axis=1)"
   ]
  },
  {
   "cell_type": "markdown",
   "id": "89365567",
   "metadata": {},
   "source": [
    "## CTGAN 적용"
   ]
  },
  {
   "cell_type": "code",
   "execution_count": 9,
   "id": "6e183a5b",
   "metadata": {},
   "outputs": [],
   "source": [
    "label1_data_path = \"C:/Users/GCU/Lending_club/Data_Analysis_lending-club/Dataset/return_feature_train_label_1.csv\"\n",
    "label1_data = pd.read_csv(label1_data_path, low_memory=False)"
   ]
  },
  {
   "cell_type": "code",
   "execution_count": 11,
   "id": "3d4c7ec9",
   "metadata": {},
   "outputs": [
    {
     "data": {
      "text/plain": [
       "Index(['last_fico_range_high', 'mo_sin_old_rev_tl_op', 'int_rate',\n",
       "       'annual_inc', 'dti', 'installment', 'zip_code', 'revol_util',\n",
       "       'fico_range_low', 'total_rev_hi_lim', 'revol_bal', 'bc_util',\n",
       "       'avg_cur_bal', 'total_il_high_credit_limit', 'grade', 'total_pymnt',\n",
       "       'total_pymnt_inv', 'loan_amnt', 'credit_history_years', 'term_months',\n",
       "       'loan_status'],\n",
       "      dtype='object')"
      ]
     },
     "execution_count": 11,
     "metadata": {},
     "output_type": "execute_result"
    }
   ],
   "source": [
    "label1_data.columns"
   ]
  },
  {
   "cell_type": "code",
   "execution_count": null,
   "id": "0e9518e6",
   "metadata": {},
   "outputs": [
    {
     "name": "stdout",
     "output_type": "stream",
     "text": [
      "🧪 Start training CTGAN on class 1 data...\n",
      "PerformanceAlert: Using the CTGANSynthesizer on this data is not recommended. To model this data, CTGAN will generate a large number of columns.\n",
      "\n",
      "Original Column Name       Est # of Columns (CTGAN)\n",
      "last_fico_range_high       11\n",
      "mo_sin_old_rev_tl_op       11\n",
      "int_rate                   11\n",
      "annual_inc                 11\n",
      "dti                        11\n",
      "installment                11\n",
      "zip_code                   890\n",
      "revol_util                 11\n",
      "fico_range_low             11\n",
      "total_rev_hi_lim           11\n",
      "revol_bal                  11\n",
      "bc_util                    11\n",
      "avg_cur_bal                11\n",
      "total_il_high_credit_limit 11\n",
      "grade                      7\n",
      "total_pymnt                11\n",
      "total_pymnt_inv            11\n",
      "loan_amnt                  11\n",
      "credit_history_years       11\n",
      "term_months                2\n",
      "loan_status                1\n",
      "\n",
      "We recommend preprocessing discrete columns that can have many values, using 'update_transformers'. Or you may drop columns that are not necessary to model. (Exit this script using ctrl-C)\n"
     ]
    }
   ],
   "source": [
    "import pandas as pd\n",
    "from sdv.metadata import SingleTableMetadata\n",
    "from sdv.single_table import CTGANSynthesizer\n",
    "import torch\n",
    "import os\n",
    "\n",
    "\n",
    "N_CLS_PER_GEN = 550_000\n",
    "OUTPUT_PATH = 'synthetic_ctgan_data_class1.csv'\n",
    "\n",
    "\n",
    "discrete_columns = ['zip_code', 'grade', 'term_months', 'loan_status']\n",
    "\n",
    "metadata = SingleTableMetadata()\n",
    "metadata.detect_from_dataframe(data=label1_data)\n",
    "\n",
    "for column in discrete_columns:\n",
    "    metadata.update_column(column_name=column, sdtype='categorical')\n",
    "\n",
    "synthesizer = CTGANSynthesizer(\n",
    "    metadata,\n",
    "    epochs=500,\n",
    "    cuda=torch.cuda.is_available(),  # CUDA 사용 여부\n",
    "    verbose=True\n",
    ")\n",
    "\n",
    "print(\"🧪 Start training CTGAN on class 1 data...\")\n",
    "synthesizer.fit(label1_data)\n",
    "print(\"✅ Training completed.\")\n",
    "\n",
    "print(f\"🔄 Sampling {N_CLS_PER_GEN} synthetic samples...\")\n",
    "synthetic_data = synthesizer.sample(num_rows=N_CLS_PER_GEN)\n",
    "\n",
    "os.makedirs(\"ctgan_output\", exist_ok=True)\n",
    "output_file = os.path.join(\"ctgan_output\", OUTPUT_PATH)\n",
    "synthetic_data.to_csv(output_file, index=False)\n",
    "print(f\"✅ Synthetic data saved to: {output_file}\")"
   ]
  },
  {
   "cell_type": "code",
   "execution_count": null,
   "id": "bfc39e24",
   "metadata": {},
   "outputs": [],
   "source": []
  }
 ],
 "metadata": {
  "kernelspec": {
   "display_name": "CTGAN",
   "language": "python",
   "name": "python3"
  },
  "language_info": {
   "codemirror_mode": {
    "name": "ipython",
    "version": 3
   },
   "file_extension": ".py",
   "mimetype": "text/x-python",
   "name": "python",
   "nbconvert_exporter": "python",
   "pygments_lexer": "ipython3",
   "version": "3.12.3"
  }
 },
 "nbformat": 4,
 "nbformat_minor": 5
}

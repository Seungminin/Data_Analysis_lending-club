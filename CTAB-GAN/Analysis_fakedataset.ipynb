{
 "cells": [
  {
   "cell_type": "markdown",
   "id": "abae80c3",
   "metadata": {},
   "source": [
    "## CTAB-GAN generated dataset\n",
    "- loan_status postprocessing"
   ]
  },
  {
   "cell_type": "code",
   "execution_count": 1,
   "id": "62b22348",
   "metadata": {},
   "outputs": [],
   "source": [
    "import pandas as pd\n",
    "import matplotlib.pyplot as plt\n",
    "import numpy as np\n",
    "\n",
    "from sklearn.preprocessing import LabelEncoder, MinMaxScaler,OneHotEncoder\n",
    "from sklearn.preprocessing import StandardScaler\n",
    "from imblearn.under_sampling import RandomUnderSampler\n",
    "from sklearn.model_selection import train_test_split\n",
    "from sklearn.utils import shuffle\n",
    "\n",
    "from sklearn.linear_model import LinearRegression\n",
    "from sklearn.metrics import mean_squared_error, r2_score\n",
    "\n",
    "from sklearn.metrics import roc_curve, auc, log_loss\n",
    "from sklearn.metrics import classification_report, precision_recall_curve, auc\n",
    "from lightgbm import LGBMClassifier\n",
    "from xgboost import XGBClassifier\n",
    "from sklearn.metrics import accuracy_score\n",
    "from tqdm import tqdm\n",
    "\n",
    "import torch \n",
    "import os\n",
    "import torch\n",
    "\n",
    "import warnings\n",
    "warnings.filterwarnings(\"ignore\")"
   ]
  },
  {
   "cell_type": "code",
   "execution_count": 2,
   "id": "90070f59",
   "metadata": {},
   "outputs": [
    {
     "name": "stdout",
     "output_type": "stream",
     "text": [
      "cuda\n"
     ]
    }
   ],
   "source": [
    "is_cuda = torch.cuda.is_available()\n",
    "device = torch.device('cuda' if is_cuda else 'cpu')\n",
    "\n",
    "print(device)"
   ]
  },
  {
   "cell_type": "code",
   "execution_count": 3,
   "id": "84d1a61d",
   "metadata": {},
   "outputs": [],
   "source": [
    "## Load original data\n",
    "data_path = \"C:/Users/GCU/Lending_club/Data_Analysis_lending-club/CTAB-GAN/Real_Datasets/train_category.csv\"\n",
    "data = pd.read_csv(data_path, low_memory=False)\n",
    "\n",
    "##load test data\n",
    "test_data_path = \"C:/Users/GCU/Lending_club/Data_Analysis_lending-club/CTAB-GAN/Real_Datasets/test_category.csv\"\n",
    "test_data = pd.read_csv(test_data_path)\n",
    "\n",
    "## Load original data\n",
    "fake_path = \"C:/Users/GCU/Lending_club/Data_Analysis_lending-club/CTAB-GAN/Fake_Datasets/ctab-gan.csv\"\n",
    "fake = pd.read_csv(fake_path, low_memory=False)"
   ]
  },
  {
   "cell_type": "code",
   "execution_count": 4,
   "id": "8ebdd6ae",
   "metadata": {},
   "outputs": [
    {
     "name": "stdout",
     "output_type": "stream",
     "text": [
      "last_fico_range_high features \n",
      ": [532.21606445 642.27423096 529.52124023 ... 500.1862793  566.94403076\n",
      " 530.06713867]\n",
      "\n",
      "annual_inc features \n",
      ": [84820.57664722 24661.91849181 47962.12870302 ... 77508.39958574\n",
      " 37965.92147343 58253.56037027]\n",
      "\n",
      "dti features \n",
      ": [19.94886208 17.06970406 18.8851738  ... 14.41803932 28.22223091\n",
      "  3.71097231]\n",
      "\n",
      "mo_sin_old_rev_tl_op features \n",
      ": [277.94955444  98.75395966 205.88439941 ... 128.61247253 177.06724548\n",
      "  63.26057053]\n",
      "\n",
      "revol_util features \n",
      ": [0.11111406 0.92269766 0.43376863 ... 0.45118776 0.5376693  0.17790577]\n",
      "\n",
      "int_rate features \n",
      ": [0.28521153 0.14235406 0.19870087 ... 0.18043435 0.06837586 0.14165766]\n",
      "\n",
      "installment features \n",
      ": [6.21457092 3.97627316 5.50695043 ... 5.66605378 5.82893218 6.24951101]\n",
      "\n",
      "avg_cur_bal features \n",
      ": [23771.91455328 12301.48085681 12998.28899561 ...  5267.75170093\n",
      "  1707.86948872  3269.85967795]\n",
      "\n",
      "revol_bal features \n",
      ": [21508.01561115 29514.86199419 11001.84265141 ... 18246.84432118\n",
      "  6007.38256569  3780.31887565]\n",
      "\n",
      "debt_settlement_flag features \n",
      ": ['N' 'Y']\n",
      "\n",
      "sub_grade features \n",
      ": ['D5' 'D2' 'A4' 'B3' 'B1' 'D4' 'G1' 'D1' 'B4' 'C3' 'C1' 'E4' 'C4' 'A5'\n",
      " 'F1' 'E1' 'C2' 'G2' 'F2' 'D3' 'E3' 'B5' 'F4' 'C5' 'E5' 'B2' 'E2' 'F3'\n",
      " 'A3' 'F5' 'G5' 'A2' 'G4' 'G3' 'A1']\n",
      "\n",
      "home_ownership features \n",
      ": ['RENT' 'MORTGAGE' 'OWN' 'ANY' 'NONE' 'OTHER']\n",
      "\n",
      "purpose features \n",
      ": ['house' 'other' 'debt_consolidation' 'small_business' 'home_improvement'\n",
      " 'moving' 'medical' 'credit_card' 'major_purchase' 'vacation' 'car'\n",
      " 'educational' 'wedding' 'renewable_energy']\n",
      "\n",
      "grade features \n",
      ": ['E' 'A' 'B' 'C' 'F' 'D' 'G']\n",
      "\n",
      "total_pymnt features \n",
      ": [ 4146.55774583 12152.63249522 26903.27431967 ...  3182.25630636\n",
      "  1451.40307171  8816.55828371]\n",
      "\n",
      "total_pymnt_inv features \n",
      ": [ 4999.2040808   5380.964712    8365.35965621 ... 24474.50843049\n",
      "   883.65092403 11837.89057081]\n",
      "\n",
      "funded_amnt features \n",
      ": [11835.57334932 15665.43075039  4392.64869033 ... 29275.25482893\n",
      " 20261.7407466  17960.32199792]\n",
      "\n",
      "loan_amnt features \n",
      ": [ 8292.24663258  5004.21465765  4040.14794111 ...  7503.2675286\n",
      " 10156.41627159 15257.17829306]\n",
      "\n",
      "credit_history_years features \n",
      ": [12. 21. 13. 17. 25.  8. 11. 16. 35. 15. 14. 19. 31.  3. 10. 30. 20. 29.\n",
      " 22. 26. 32. 33. 36.  4. 18.  6. 28.  7. 34. 27. 24. 23.  9.  5. 37.  1.\n",
      " 45. 44. 41. 52. 38. 61. 46. 43. 40. 42.  2. 39. 65. 48. 51. 49.  0. 47.\n",
      " 50. 53. 69. 60. 62. 57. 59. 63. 58. 67. 55. 68. 54. 56. 64. 66. -1.]\n",
      "\n",
      "term_months features \n",
      ": [60 36]\n",
      "\n",
      "loan_status features \n",
      ": [1.00004715 1.00004063 1.00001467 ... 1.00003799 1.0000461  1.00003053]\n",
      "\n"
     ]
    }
   ],
   "source": [
    "for col in fake.columns:\n",
    "    print(f\"{col} features \\n: {fake[col].unique()}\\n\")"
   ]
  },
  {
   "cell_type": "code",
   "execution_count": 7,
   "id": "393febf4",
   "metadata": {},
   "outputs": [
    {
     "name": "stdout",
     "output_type": "stream",
     "text": [
      "<class 'pandas.core.frame.DataFrame'>\n",
      "RangeIndex: 1116458 entries, 0 to 1116457\n",
      "Data columns (total 21 columns):\n",
      " #   Column                Non-Null Count    Dtype  \n",
      "---  ------                --------------    -----  \n",
      " 0   last_fico_range_high  1116458 non-null  float64\n",
      " 1   annual_inc            1116458 non-null  float64\n",
      " 2   dti                   1116458 non-null  float64\n",
      " 3   mo_sin_old_rev_tl_op  1116458 non-null  float64\n",
      " 4   revol_util            1116458 non-null  float64\n",
      " 5   int_rate              1116458 non-null  float64\n",
      " 6   installment           1116458 non-null  float64\n",
      " 7   avg_cur_bal           1116458 non-null  float64\n",
      " 8   revol_bal             1116458 non-null  float64\n",
      " 9   debt_settlement_flag  1116458 non-null  object \n",
      " 10  sub_grade             1116458 non-null  object \n",
      " 11  home_ownership        1116458 non-null  object \n",
      " 12  purpose               1116458 non-null  object \n",
      " 13  grade                 1116458 non-null  object \n",
      " 14  total_pymnt           1116458 non-null  float64\n",
      " 15  total_pymnt_inv       1116458 non-null  float64\n",
      " 16  funded_amnt           1116458 non-null  float64\n",
      " 17  loan_amnt             1116458 non-null  float64\n",
      " 18  credit_history_years  1116458 non-null  int64  \n",
      " 19  term_months           1116458 non-null  int64  \n",
      " 20  loan_status           1116458 non-null  int64  \n",
      "dtypes: float64(13), int64(3), object(5)\n",
      "memory usage: 178.9+ MB\n"
     ]
    }
   ],
   "source": [
    "data.info()"
   ]
  },
  {
   "cell_type": "code",
   "execution_count": 5,
   "id": "b7cbbda9",
   "metadata": {},
   "outputs": [
    {
     "name": "stdout",
     "output_type": "stream",
     "text": [
      "<class 'pandas.core.frame.DataFrame'>\n",
      "RangeIndex: 540000 entries, 0 to 539999\n",
      "Data columns (total 21 columns):\n",
      " #   Column                Non-Null Count   Dtype  \n",
      "---  ------                --------------   -----  \n",
      " 0   last_fico_range_high  540000 non-null  float64\n",
      " 1   annual_inc            540000 non-null  float64\n",
      " 2   dti                   540000 non-null  float64\n",
      " 3   mo_sin_old_rev_tl_op  540000 non-null  float64\n",
      " 4   revol_util            540000 non-null  float64\n",
      " 5   int_rate              540000 non-null  float64\n",
      " 6   installment           540000 non-null  float64\n",
      " 7   avg_cur_bal           540000 non-null  float64\n",
      " 8   revol_bal             540000 non-null  float64\n",
      " 9   debt_settlement_flag  540000 non-null  object \n",
      " 10  sub_grade             540000 non-null  object \n",
      " 11  home_ownership        540000 non-null  object \n",
      " 12  purpose               540000 non-null  object \n",
      " 13  grade                 540000 non-null  object \n",
      " 14  total_pymnt           540000 non-null  float64\n",
      " 15  total_pymnt_inv       540000 non-null  float64\n",
      " 16  funded_amnt           540000 non-null  float64\n",
      " 17  loan_amnt             540000 non-null  float64\n",
      " 18  credit_history_years  540000 non-null  float64\n",
      " 19  term_months           540000 non-null  int64  \n",
      " 20  loan_status           540000 non-null  float64\n",
      "dtypes: float64(15), int64(1), object(5)\n",
      "memory usage: 86.5+ MB\n"
     ]
    }
   ],
   "source": [
    "fake.info()"
   ]
  },
  {
   "cell_type": "code",
   "execution_count": 6,
   "id": "21a495b8",
   "metadata": {},
   "outputs": [
    {
     "data": {
      "text/plain": [
       "loan_status\n",
       "1    540000\n",
       "Name: count, dtype: int64"
      ]
     },
     "execution_count": 6,
     "metadata": {},
     "output_type": "execute_result"
    }
   ],
   "source": [
    "fake['loan_status'] = 1\n",
    "\n",
    "fake['loan_status'].value_counts()"
   ]
  }
 ],
 "metadata": {
  "kernelspec": {
   "display_name": "CTGAN",
   "language": "python",
   "name": "python3"
  },
  "language_info": {
   "codemirror_mode": {
    "name": "ipython",
    "version": 3
   },
   "file_extension": ".py",
   "mimetype": "text/x-python",
   "name": "python",
   "nbconvert_exporter": "python",
   "pygments_lexer": "ipython3",
   "version": "3.12.3"
  }
 },
 "nbformat": 4,
 "nbformat_minor": 5
}

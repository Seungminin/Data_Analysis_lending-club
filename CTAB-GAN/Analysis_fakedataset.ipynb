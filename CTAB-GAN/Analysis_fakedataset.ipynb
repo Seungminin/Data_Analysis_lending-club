{
 "cells": [
  {
   "cell_type": "markdown",
   "id": "abae80c3",
   "metadata": {},
   "source": [
    "## CTAB-GAN generated dataset\n",
    "- loan_status postprocessing"
   ]
  },
  {
   "cell_type": "code",
   "execution_count": 1,
   "id": "62b22348",
   "metadata": {},
   "outputs": [],
   "source": [
    "import pandas as pd\n",
    "import matplotlib.pyplot as plt\n",
    "import numpy as np\n",
    "\n",
    "from sklearn.preprocessing import LabelEncoder, MinMaxScaler,OneHotEncoder\n",
    "from sklearn.preprocessing import StandardScaler\n",
    "from imblearn.under_sampling import RandomUnderSampler\n",
    "from sklearn.model_selection import train_test_split\n",
    "from sklearn.utils import shuffle\n",
    "\n",
    "from sklearn.linear_model import LinearRegression\n",
    "from sklearn.metrics import mean_squared_error, r2_score\n",
    "\n",
    "from sklearn.metrics import roc_curve, auc, log_loss\n",
    "from sklearn.metrics import classification_report, precision_recall_curve, auc\n",
    "from lightgbm import LGBMClassifier\n",
    "from xgboost import XGBClassifier\n",
    "from sklearn.metrics import accuracy_score\n",
    "from tqdm import tqdm\n",
    "\n",
    "import torch \n",
    "import os\n",
    "import torch\n",
    "\n",
    "import warnings\n",
    "warnings.filterwarnings(\"ignore\")"
   ]
  },
  {
   "cell_type": "code",
   "execution_count": 2,
   "id": "90070f59",
   "metadata": {},
   "outputs": [
    {
     "name": "stdout",
     "output_type": "stream",
     "text": [
      "cuda\n"
     ]
    }
   ],
   "source": [
    "is_cuda = torch.cuda.is_available()\n",
    "device = torch.device('cuda' if is_cuda else 'cpu')\n",
    "\n",
    "print(device)"
   ]
  },
  {
   "cell_type": "code",
   "execution_count": 3,
   "id": "84d1a61d",
   "metadata": {},
   "outputs": [],
   "source": [
    "## Load original data\n",
    "data_path = \"C:/Users/GCU/Lending_club/Data_Analysis_lending-club/CTAB-GAN/Real_Datasets/train_category.csv\"\n",
    "data = pd.read_csv(data_path, low_memory=False)\n",
    "\n",
    "##load test data\n",
    "test_data_path = \"C:/Users/GCU/Lending_club/Data_Analysis_lending-club/CTAB-GAN/Real_Datasets/test_category.csv\"\n",
    "test_data = pd.read_csv(test_data_path)\n",
    "\n",
    "## Load original data\n",
    "fake_path = \"C:/Users/GCU/Lending_club/Data_Analysis_lending-club/CTAB-GAN/Fake_Datasets/ctab-gan.csv\"\n",
    "fake = pd.read_csv(fake_path, low_memory=False)"
   ]
  },
  {
   "cell_type": "code",
   "execution_count": 4,
   "id": "8ebdd6ae",
   "metadata": {},
   "outputs": [
    {
     "name": "stdout",
     "output_type": "stream",
     "text": [
      "last_fico_range_high features \n",
      ": [563.86206055 534.6661377  533.87994385 ... 540.29870605 526.31994629\n",
      " 553.51928711]\n",
      "\n",
      "annual_inc features \n",
      ": [139317.95337149  51065.53110064 110901.12064818 ...  40028.00715938\n",
      " 105753.94375303 184296.58678978]\n",
      "\n",
      "dti features \n",
      ": [22.74494553 10.4570303  24.68014145 ... 15.84842777 12.93407726\n",
      "  8.72013092]\n",
      "\n",
      "mo_sin_old_rev_tl_op features \n",
      ": [346.71786499 137.81939697 121.98181152 ... 185.96505737 133.13142395\n",
      " 296.23239136]\n",
      "\n",
      "revol_util features \n",
      ": [0.80004752 0.68297833 0.09741139 ... 0.57721931 0.3389667  0.88475329]\n",
      "\n",
      "int_rate features \n",
      ": [0.17203716 0.1054262  0.17335222 ... 0.09017627 0.17156107 0.15861231]\n",
      "\n",
      "installment features \n",
      ": [677.74697076 152.29754169 585.05818331 ... 759.53978809 510.73694392\n",
      " 733.89783621]\n",
      "\n",
      "avg_cur_bal features \n",
      ": [  792.5735191   4002.25032131 23298.90734261 ...   749.39040229\n",
      " 16972.06465209  2337.85241843]\n",
      "\n",
      "revol_bal features \n",
      ": [ 8090.16372122 13167.17832908 17975.91762104 ...  6671.30368835\n",
      " 16942.00257425 13812.65133719]\n",
      "\n",
      "debt_settlement_flag features \n",
      ": ['N' 'Y']\n",
      "\n",
      "sub_grade features \n",
      ": ['C4' 'B1' 'D2' 'E4' 'E5' 'A4' 'D1' 'E3' 'F3' 'D3' 'C2' 'A5' 'B3' 'D5'\n",
      " 'C1' 'B5' 'D4' 'A3' 'F1' 'C3' 'E1' 'F2' 'C5' 'E2' 'G3' 'B4' 'A1' 'B2'\n",
      " 'G2' 'F5' 'G5' 'A2' 'F4' 'G1' 'G4']\n",
      "\n",
      "home_ownership features \n",
      ": ['RENT' 'OWN' 'MORTGAGE' 'ANY' 'NONE' 'OTHER']\n",
      "\n",
      "purpose features \n",
      ": ['credit_card' 'home_improvement' 'debt_consolidation' 'moving' 'house'\n",
      " 'other' 'small_business' 'major_purchase' 'educational'\n",
      " 'renewable_energy' 'car' 'medical' 'wedding' 'vacation']\n",
      "\n",
      "grade features \n",
      ": ['A' 'B' 'C' 'D' 'E' 'F' 'G']\n",
      "\n",
      "total_pymnt features \n",
      ": [ -718.70917387   858.49634644  1823.41751482 ... 21470.84813133\n",
      " 16937.91940617 10690.30081342]\n",
      "\n",
      "total_pymnt_inv features \n",
      ": [3547.20491314 2746.90817709 2568.09202709 ... 5863.76619434 1083.95368325\n",
      " 5403.22425799]\n",
      "\n",
      "funded_amnt features \n",
      ": [14284.0000378  12332.11343317  5221.21164276 ...  5429.77772171\n",
      " 18727.36093124 18996.59474978]\n",
      "\n",
      "loan_amnt features \n",
      ": [17992.6405233  14518.79068753 15324.07037539 ...  4305.80965597\n",
      " 15089.25507171 34522.83775282]\n",
      "\n",
      "credit_history_years features \n",
      ": [15 18 23 26 12 21 10 48 24 19 22  7 20  8 13 17 27 16  9 11 14  6 25 28\n",
      " 36 41 29  4 33  5  3 42 45 44 30 31 32 39 46 65 35 40 43 53  2 37 34 47\n",
      " 49 38 56 54 52 55 58 68  1 51  0 62 57 50 61 59 63 60 64 67 66 69]\n",
      "\n",
      "term_months features \n",
      ": [36 60]\n",
      "\n",
      "loan_status features \n",
      ": [1]\n",
      "\n"
     ]
    }
   ],
   "source": [
    "for col in fake.columns:\n",
    "    print(f\"{col} features \\n: {fake[col].unique()}\\n\")"
   ]
  },
  {
   "cell_type": "code",
   "execution_count": 5,
   "id": "393febf4",
   "metadata": {},
   "outputs": [
    {
     "name": "stdout",
     "output_type": "stream",
     "text": [
      "<class 'pandas.core.frame.DataFrame'>\n",
      "RangeIndex: 1116458 entries, 0 to 1116457\n",
      "Data columns (total 21 columns):\n",
      " #   Column                Non-Null Count    Dtype  \n",
      "---  ------                --------------    -----  \n",
      " 0   last_fico_range_high  1116458 non-null  float64\n",
      " 1   annual_inc            1116458 non-null  float64\n",
      " 2   dti                   1116458 non-null  float64\n",
      " 3   mo_sin_old_rev_tl_op  1116458 non-null  float64\n",
      " 4   revol_util            1116458 non-null  float64\n",
      " 5   int_rate              1116458 non-null  float64\n",
      " 6   installment           1116458 non-null  float64\n",
      " 7   avg_cur_bal           1116458 non-null  float64\n",
      " 8   revol_bal             1116458 non-null  float64\n",
      " 9   debt_settlement_flag  1116458 non-null  object \n",
      " 10  sub_grade             1116458 non-null  object \n",
      " 11  home_ownership        1116458 non-null  object \n",
      " 12  purpose               1116458 non-null  object \n",
      " 13  grade                 1116458 non-null  object \n",
      " 14  total_pymnt           1116458 non-null  float64\n",
      " 15  total_pymnt_inv       1116458 non-null  float64\n",
      " 16  funded_amnt           1116458 non-null  float64\n",
      " 17  loan_amnt             1116458 non-null  float64\n",
      " 18  credit_history_years  1116458 non-null  int64  \n",
      " 19  term_months           1116458 non-null  int64  \n",
      " 20  loan_status           1116458 non-null  int64  \n",
      "dtypes: float64(13), int64(3), object(5)\n",
      "memory usage: 178.9+ MB\n"
     ]
    }
   ],
   "source": [
    "data.info()"
   ]
  },
  {
   "cell_type": "code",
   "execution_count": 6,
   "id": "b7cbbda9",
   "metadata": {},
   "outputs": [
    {
     "name": "stdout",
     "output_type": "stream",
     "text": [
      "<class 'pandas.core.frame.DataFrame'>\n",
      "RangeIndex: 540000 entries, 0 to 539999\n",
      "Data columns (total 21 columns):\n",
      " #   Column                Non-Null Count   Dtype  \n",
      "---  ------                --------------   -----  \n",
      " 0   last_fico_range_high  540000 non-null  float64\n",
      " 1   annual_inc            540000 non-null  float64\n",
      " 2   dti                   540000 non-null  float64\n",
      " 3   mo_sin_old_rev_tl_op  540000 non-null  float64\n",
      " 4   revol_util            540000 non-null  float64\n",
      " 5   int_rate              540000 non-null  float64\n",
      " 6   installment           540000 non-null  float64\n",
      " 7   avg_cur_bal           540000 non-null  float64\n",
      " 8   revol_bal             540000 non-null  float64\n",
      " 9   debt_settlement_flag  540000 non-null  object \n",
      " 10  sub_grade             540000 non-null  object \n",
      " 11  home_ownership        540000 non-null  object \n",
      " 12  purpose               540000 non-null  object \n",
      " 13  grade                 540000 non-null  object \n",
      " 14  total_pymnt           540000 non-null  float64\n",
      " 15  total_pymnt_inv       540000 non-null  float64\n",
      " 16  funded_amnt           540000 non-null  float64\n",
      " 17  loan_amnt             540000 non-null  float64\n",
      " 18  credit_history_years  540000 non-null  int64  \n",
      " 19  term_months           540000 non-null  int64  \n",
      " 20  loan_status           540000 non-null  int64  \n",
      "dtypes: float64(13), int64(3), object(5)\n",
      "memory usage: 86.5+ MB\n"
     ]
    }
   ],
   "source": [
    "fake.info()"
   ]
  },
  {
   "cell_type": "code",
   "execution_count": 7,
   "id": "21a495b8",
   "metadata": {},
   "outputs": [
    {
     "data": {
      "text/plain": [
       "loan_status\n",
       "1    540000\n",
       "Name: count, dtype: int64"
      ]
     },
     "execution_count": 7,
     "metadata": {},
     "output_type": "execute_result"
    }
   ],
   "source": [
    "fake['loan_status'].value_counts()"
   ]
  }
 ],
 "metadata": {
  "kernelspec": {
   "display_name": "CTGAN",
   "language": "python",
   "name": "python3"
  },
  "language_info": {
   "codemirror_mode": {
    "name": "ipython",
    "version": 3
   },
   "file_extension": ".py",
   "mimetype": "text/x-python",
   "name": "python",
   "nbconvert_exporter": "python",
   "pygments_lexer": "ipython3",
   "version": "3.12.3"
  }
 },
 "nbformat": 4,
 "nbformat_minor": 5
}

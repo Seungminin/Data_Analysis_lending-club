{
 "cells": [
  {
   "cell_type": "markdown",
   "id": "c28c36e2",
   "metadata": {},
   "source": [
    "## LightGBM based Tree model"
   ]
  },
  {
   "cell_type": "code",
   "execution_count": null,
   "id": "f65fbe1e",
   "metadata": {},
   "outputs": [],
   "source": [
    "import pandas as pd\n",
    "import matplotlib.pyplot as plt\n",
    "import numpy as np\n",
    "\n",
    "from sklearn.preprocessing import LabelEncoder, MinMaxScaler\n",
    "from sklearn.preprocessing import StandardScaler\n",
    "from imblearn.under_sampling import RandomUnderSampler\n",
    "from sklearn.model_selection import train_test_split\n",
    "\n",
    "from sklearn.metrics import roc_curve, auc, log_loss\n",
    "from sklearn.metrics import classification_report, precision_recall_curve, auc\n",
    "from lightgbm import LGBMClassifier\n",
    "from xgboost import XGBClassifier\n",
    "from sklearn.metrics import accuracy_score\n",
    "from tqdm import tqdm\n",
    "\n",
    "import torch \n",
    "import os\n",
    "import torch\n",
    "\n",
    "import warnings\n",
    "warnings.filterwarnings(\"ignore\")"
   ]
  },
  {
   "cell_type": "code",
   "execution_count": null,
   "id": "f6135c7b",
   "metadata": {},
   "outputs": [],
   "source": [
    "is_cuda = torch.cuda.is_available()\n",
    "device = torch.device('cuda' if is_cuda else 'cpu')\n",
    "print(device)"
   ]
  },
  {
   "cell_type": "markdown",
   "id": "c23011b1",
   "metadata": {},
   "source": [
    "### Base"
   ]
  },
  {
   "cell_type": "code",
   "execution_count": null,
   "id": "cfd0149f",
   "metadata": {},
   "outputs": [],
   "source": [
    "## Load original data\n",
    "data_path = \"C:/Users/GCU/Lending_club/Data_Analysis_lending-club/Dataset/train_dataset.csv\"\n",
    "data = pd.read_csv(data_path, low_memory=False)\n",
    "\n",
    "##load test data\n",
    "test_data_path = \"C:/Users/GCU/Lending_club/Data_Analysis_lending-club/Dataset/test_dataset.csv\"\n",
    "test_data = pd.read_csv(test_data_path)"
   ]
  },
  {
   "cell_type": "code",
   "execution_count": null,
   "id": "85295be1",
   "metadata": {},
   "outputs": [],
   "source": [
    "data_x = data.drop(columns='loan_status')\n",
    "data_y = data[['loan_status']]\n",
    "\n",
    "X_test = test_data.drop(columns = \"loan_status\")\n",
    "y_test = test_data[['loan_status']]"
   ]
  },
  {
   "cell_type": "code",
   "execution_count": null,
   "id": "612cb979",
   "metadata": {},
   "outputs": [],
   "source": [
    "# data under 6:2:2 train,val,test set\n",
    "X_train, X_val, y_train, y_val = train_test_split(data_x, data_y, test_size=0.2, random_state=42, stratify=data_y)\n",
    "\n",
    "print(f\"Train size: {X_train.shape[0]} samples ({X_train.shape[0]/len(data):.1%})\")\n",
    "print(f\"Validation size: {X_val.shape[0]} samples ({X_val.shape[0]/len(data):.1%})\")\n",
    "print(f\"Test size: {X_test.shape[0]} samples ({X_test.shape[0]/len(data):.1%})\")"
   ]
  },
  {
   "cell_type": "code",
   "execution_count": null,
   "id": "8eda7bc9",
   "metadata": {},
   "outputs": [],
   "source": [
    "from lightgbm import LGBMClassifier\n",
    "\n",
    "# 2️⃣ LightGBM 모델 정의\n",
    "lgbm_model = LGBMClassifier(\n",
    "    objective='binary',\n",
    "    boosting_type='gbdt',  # 또는 'dart', 'goss'\n",
    "    num_leaves=31,\n",
    "    learning_rate=0.01,\n",
    "    n_estimators=1000,\n",
    "    class_weight='balanced',  # 클래스 불균형 처리 시 사용\n",
    "    random_state=42,\n",
    "    verbose=1\n",
    ")"
   ]
  }
 ],
 "metadata": {
  "kernelspec": {
   "display_name": "CTGAN",
   "language": "python",
   "name": "python3"
  },
  "language_info": {
   "name": "python",
   "version": "3.12.3"
  }
 },
 "nbformat": 4,
 "nbformat_minor": 5
}

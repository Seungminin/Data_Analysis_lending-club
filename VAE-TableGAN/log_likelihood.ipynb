{
 "cells": [
  {
   "cell_type": "code",
   "execution_count": null,
   "id": "b6598a61",
   "metadata": {},
   "outputs": [],
   "source": [
    "import numpy as np\n",
    "import pandas as pd\n",
    "import seaborn as sns\n",
    "import matplotlib.pyplot as plt\n",
    "import time\n",
    "\n",
    "from sklearn.mixture import GaussianMixture\n",
    "from sklearn.preprocessing import LabelEncoder\n",
    "\n",
    "import os\n",
    "\n",
    "import warnings\n",
    "warnings.filterwarnings('ignore')"
   ]
  },
  {
   "cell_type": "code",
   "execution_count": null,
   "id": "1b7a8a41",
   "metadata": {},
   "outputs": [],
   "source": [
    "original_path = \"/content/drive/MyDrive/Evaluation_synthesized_data/categorical_original.csv\"\n",
    "fake_path = '/content/drive/MyDrive/Evaluation_synthesized_data/categorical_OI_11_00_fake.csv'\n",
    "\n",
    "original_data = pd.read_csv(original_path)\n",
    "fake_data = pd.read_csv(fake_path)"
   ]
  },
  {
   "cell_type": "code",
   "execution_count": null,
   "id": "a2f2a7be",
   "metadata": {},
   "outputs": [],
   "source": [
    "# 1. 공통 컬럼 정렬\n",
    "common_cols = list(set(original_data.columns) & set(fake_data.columns))\n",
    "original_data = original_data[common_cols]\n",
    "fake_data = fake_data[common_cols]\n",
    "\n",
    "# 2. 범주형 변수 encoding (GMM은 수치형만 가능)\n",
    "def encode_categoricals(df):\n",
    "    df = df.copy()\n",
    "    for col in df.select_dtypes(include='object').columns:\n",
    "        df[col] = LabelEncoder().fit_transform(df[col].astype(str))\n",
    "    return df\n",
    "\n",
    "original_encoded = encode_categoricals(original_data)\n",
    "fake_encoded = encode_categoricals(fake_data)\n",
    "\n",
    "# 3. 결측치 제거 (또는 채우기)\n",
    "original_encoded = original_encoded.dropna()\n",
    "fake_encoded = fake_encoded.dropna()\n",
    "\n",
    "# 4. 연속형 변수만 선택 (GMM은 수치형만 지원)\n",
    "numerical_cols = original_encoded.select_dtypes(include=np.number).columns.tolist()\n",
    "X_fake = fake_encoded[numerical_cols]\n",
    "X_real = original_encoded[numerical_cols]"
   ]
  },
  {
   "cell_type": "code",
   "execution_count": null,
   "id": "df0c502a",
   "metadata": {},
   "outputs": [],
   "source": [
    "# 5. GMM 학습 및 평가\n",
    "def evaluate_gmm_log_likelihood(X_train, X_eval, n_components=10):\n",
    "    start_time = time.time()\n",
    "\n",
    "    gmm = GaussianMixture(n_components=n_components, covariance_type='full', random_state=42)\n",
    "    gmm.fit(X_train)\n",
    "\n",
    "    end_time = time.time()\n",
    "    elapsed_time = end_time - start_time\n",
    "\n",
    "    log_likelihood = gmm.score(X_eval)  # 평균 log-likelihood\n",
    "    return log_likelihood, elapsed_time\n",
    "\n",
    "gmm_ll, elapsed_time = evaluate_gmm_log_likelihood(X_fake, X_real)\n",
    "print(f\"📊 GMM 기반 평균 Log-Likelihood (real data): {gmm_ll:.4f}\")\n",
    "print(f\"실행 시간: {elapsed_time:.2f}초\")"
   ]
  },
  {
   "cell_type": "code",
   "execution_count": null,
   "id": "b62c5fe4",
   "metadata": {},
   "outputs": [],
   "source": [
    "#실제 데이터로 학습하고 실제 데이터를 평가하는 구간(최대 성능의 상한선)\n",
    "oracle_ll = evaluate_gmm_log_likelihood(X_real, X_real)\n",
    "print(\"Oracle log-likelihood (upper bound):\", oracle_ll)"
   ]
  }
 ],
 "metadata": {
  "kernelspec": {
   "display_name": "CTGAN",
   "language": "python",
   "name": "python3"
  },
  "language_info": {
   "name": "python",
   "version": "3.12.3"
  }
 },
 "nbformat": 4,
 "nbformat_minor": 5
}

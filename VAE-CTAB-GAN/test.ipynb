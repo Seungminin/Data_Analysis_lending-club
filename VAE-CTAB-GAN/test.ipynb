{
 "cells": [
  {
   "cell_type": "code",
   "execution_count": 1,
   "id": "9726dfbc",
   "metadata": {},
   "outputs": [],
   "source": [
    "import pickle"
   ]
  },
  {
   "cell_type": "code",
   "execution_count": 3,
   "id": "7d4a22dd",
   "metadata": {},
   "outputs": [
    {
     "name": "stdout",
     "output_type": "stream",
     "text": [
      "[array([6, 2, 3, 7, 1, 0, 5, 4, 8], dtype=int64), array([0, 3, 2, 1, 4], dtype=int64), array([4, 2, 5, 0, 3, 1, 6], dtype=int64), array([3, 2, 1, 8, 5, 9, 0, 7, 4, 6], dtype=int64), array([2, 0, 5, 6, 7, 9, 3, 4, 8, 1], dtype=int64), array([2, 6, 0, 5, 1, 4, 3, 7], dtype=int64), array([0, 3, 5, 6, 1, 4, 2], dtype=int64), None, None, None, None, None, array([5, 3, 8, 0, 2, 9, 4, 1, 7, 6], dtype=int64), array([9, 4, 8, 2, 0, 7, 1, 5, 3, 6], dtype=int64), array([4, 0, 7, 5, 3, 6, 2, 1, 9, 8], dtype=int64), array([6, 0, 2, 5, 1, 3, 4, 7, 9, 8], dtype=int64), array([5, 9, 1, 2, 7, 0, 3, 6, 4, 8], dtype=int64), None, None]\n",
      "\n",
      "19 21\n"
     ]
    }
   ],
   "source": [
    "transf = \"C:/Users/GCU/Lending_club/Data_Analysis_lending-club/VAE-CTAB-GAN/preprocess/transformer/transformer.pkl\"\n",
    "\n",
    "with open(transf, 'rb') as f:\n",
    "    transformer = pickle.load(f)\n",
    "\n",
    "print(transformer.ordering)  # None이 들어있거나 빈 리스트일 가능성\n",
    "print()\n",
    "print(len(transformer.ordering), len(transformer.meta))  # 개수 안 맞을 수 있음"
   ]
  }
 ],
 "metadata": {
  "kernelspec": {
   "display_name": "CTGAN",
   "language": "python",
   "name": "python3"
  },
  "language_info": {
   "codemirror_mode": {
    "name": "ipython",
    "version": 3
   },
   "file_extension": ".py",
   "mimetype": "text/x-python",
   "name": "python",
   "nbconvert_exporter": "python",
   "pygments_lexer": "ipython3",
   "version": "3.12.3"
  }
 },
 "nbformat": 4,
 "nbformat_minor": 5
}

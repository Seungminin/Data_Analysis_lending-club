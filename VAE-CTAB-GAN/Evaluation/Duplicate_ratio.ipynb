{
 "cells": [
  {
   "cell_type": "code",
   "execution_count": 1,
   "id": "cb3b6648",
   "metadata": {},
   "outputs": [],
   "source": [
    "import pandas as pd\n",
    "import matplotlib.pyplot as plt\n",
    "import numpy as np\n",
    "import pickle\n",
    "\n",
    "from sklearn.preprocessing import LabelEncoder, MinMaxScaler,OneHotEncoder\n",
    "from sklearn.preprocessing import StandardScaler\n",
    "from imblearn.under_sampling import RandomUnderSampler\n",
    "from sklearn.model_selection import train_test_split\n",
    "from sklearn.utils import shuffle\n",
    "\n",
    "from sklearn.linear_model import LinearRegression\n",
    "from sklearn.linear_model import LogisticRegression\n",
    "from sklearn.metrics import mean_squared_error, r2_score\n",
    "\n",
    "from sklearn.metrics import roc_curve, auc, log_loss\n",
    "from sklearn.metrics import classification_report, precision_recall_curve, auc\n",
    "from sklearn.metrics import accuracy_score\n",
    "from tqdm import tqdm\n",
    "\n",
    "import torch\n",
    "import torch.nn as nn\n",
    "import torch.optim as optim\n",
    "from torch.utils.data import DataLoader, TensorDataset\n",
    "\n",
    "import warnings\n",
    "warnings.filterwarnings(\"ignore\")"
   ]
  },
  {
   "cell_type": "code",
   "execution_count": 2,
   "id": "e2c294b0",
   "metadata": {},
   "outputs": [
    {
     "name": "stderr",
     "output_type": "stream",
     "text": [
      "Duplicated Ratio, Distinct Sample Ratio: 100%|██████████| 7/7 [00:08<00:00,  1.28s/it]\n"
     ]
    }
   ],
   "source": [
    "import pandas as pd\n",
    "\n",
    "# CSV 파일 불러오기\n",
    "# 예: 'generated_data.csv'\n",
    "real_path = \"C:/Users/GCU/Lending_club/Data_Analysis_lending-club/VAE-CTAB-GAN/Real_Datasets/train_category_1.csv\"\n",
    "real = pd.read_csv(real_path, low_memory=False)\n",
    "\n",
    "methods = {\n",
    "    'smote-nc': 'C:/Users/GCU/Lending_club/Data_Analysis_lending-club/portfolios/base/smote-nc.csv',\n",
    "    'tablegan': 'C:/Users/GCU/Lending_club/Data_Analysis_lending-club/portfolios/tablegan/tablegan.csv',\n",
    "    'vae-tablegan': 'C:/Users/GCU/Lending_club/Data_Analysis_lending-club/portfolios/tablegan/vae-tablegan.csv',\n",
    "    'ctgan': 'C:/Users/GCU/Lending_club/Data_Analysis_lending-club/portfolios/ctgan/ctgan.csv',\n",
    "    'vae-ctgan': 'C:/Users/GCU/Lending_club/Data_Analysis_lending-club/portfolios/ctgan/vae-ctgan.csv',\n",
    "    'ctabgan': 'C:/Users/GCU/Lending_club/Data_Analysis_lending-club/portfolios/ctabgan/ctabgan.csv',\n",
    "    'vae-ctabgan': 'C:/Users/GCU/Lending_club/Data_Analysis_lending-club/portfolios/ctabgan/vae-ctabgan.csv'\n",
    "}\n",
    "\n",
    "results = []\n",
    "\n",
    "for method, path in tqdm(methods.items(), desc=\"Duplicated Ratio, Distinct Sample Ratio\"):\n",
    "    synth = pd.read_csv(path)\n",
    "\n",
    "    # 전체 샘플 수\n",
    "    total_samples = len(synth)\n",
    "\n",
    "    # 고유 샘플 수\n",
    "    unique_samples = synth.drop_duplicates().shape[0]\n",
    "\n",
    "    # 중복 샘플 수\n",
    "    duplicate_samples = total_samples - unique_samples\n",
    "\n",
    "    # Duplicate Ratio (%)\n",
    "    duplicate_ratio = (duplicate_samples / total_samples) * 100\n",
    "\n",
    "    # Distinct Sample Ratio (%)\n",
    "    distinct_sample_ratio = (unique_samples / total_samples) * 100\n",
    "\n",
    "    results.append({\n",
    "        \"Methods\": method,\n",
    "        \"Total Samples\": total_samples,\n",
    "        \"Unique Samples\": unique_samples,\n",
    "        \"Duplocate Samples\": duplicate_samples,\n",
    "        \"Duplicate Ratio\": duplicate_ratio,\n",
    "        \"Distinct Sample Ratio\": distinct_sample_ratio\n",
    "    })\n",
    "\n"
   ]
  },
  {
   "cell_type": "code",
   "execution_count": 5,
   "id": "fbdddcaf",
   "metadata": {},
   "outputs": [
    {
     "data": {
      "text/plain": [
       "[{'Methods': 'smote-nc',\n",
       "  'Total Samples': 540000,\n",
       "  'Unique Samples': 540000,\n",
       "  'Duplocate Samples': 0,\n",
       "  'Duplicate Ratio': 0.0,\n",
       "  'Distinct Sample Ratio': 100.0},\n",
       " {'Methods': 'tablegan',\n",
       "  'Total Samples': 540000,\n",
       "  'Unique Samples': 539708,\n",
       "  'Duplocate Samples': 292,\n",
       "  'Duplicate Ratio': 0.05407407407407407,\n",
       "  'Distinct Sample Ratio': 99.94592592592593},\n",
       " {'Methods': 'vae-tablegan',\n",
       "  'Total Samples': 540000,\n",
       "  'Unique Samples': 539708,\n",
       "  'Duplocate Samples': 292,\n",
       "  'Duplicate Ratio': 0.05407407407407407,\n",
       "  'Distinct Sample Ratio': 99.94592592592593},\n",
       " {'Methods': 'ctgan',\n",
       "  'Total Samples': 540000,\n",
       "  'Unique Samples': 540000,\n",
       "  'Duplocate Samples': 0,\n",
       "  'Duplicate Ratio': 0.0,\n",
       "  'Distinct Sample Ratio': 100.0},\n",
       " {'Methods': 'vae-ctgan',\n",
       "  'Total Samples': 540000,\n",
       "  'Unique Samples': 539708,\n",
       "  'Duplocate Samples': 292,\n",
       "  'Duplicate Ratio': 0.05407407407407407,\n",
       "  'Distinct Sample Ratio': 99.94592592592593},\n",
       " {'Methods': 'ctabgan',\n",
       "  'Total Samples': 540000,\n",
       "  'Unique Samples': 540000,\n",
       "  'Duplocate Samples': 0,\n",
       "  'Duplicate Ratio': 0.0,\n",
       "  'Distinct Sample Ratio': 100.0},\n",
       " {'Methods': 'vae-ctabgan',\n",
       "  'Total Samples': 540000,\n",
       "  'Unique Samples': 540000,\n",
       "  'Duplocate Samples': 0,\n",
       "  'Duplicate Ratio': 0.0,\n",
       "  'Distinct Sample Ratio': 100.0}]"
      ]
     },
     "execution_count": 5,
     "metadata": {},
     "output_type": "execute_result"
    }
   ],
   "source": [
    "results"
   ]
  }
 ],
 "metadata": {
  "kernelspec": {
   "display_name": "CTGAN",
   "language": "python",
   "name": "python3"
  },
  "language_info": {
   "codemirror_mode": {
    "name": "ipython",
    "version": 3
   },
   "file_extension": ".py",
   "mimetype": "text/x-python",
   "name": "python",
   "nbconvert_exporter": "python",
   "pygments_lexer": "ipython3",
   "version": "3.12.3"
  }
 },
 "nbformat": 4,
 "nbformat_minor": 5
}

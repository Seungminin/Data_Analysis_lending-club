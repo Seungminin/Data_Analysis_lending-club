{
 "cells": [
  {
   "cell_type": "code",
   "execution_count": null,
   "id": "bf87bda1",
   "metadata": {},
   "outputs": [],
   "source": [
    "import pandas as pd\n",
    "import matplotlib.pyplot as plt\n",
    "import numpy as np\n",
    "import pickle\n",
    "\n",
    "from sklearn.preprocessing import LabelEncoder, MinMaxScaler,OneHotEncoder\n",
    "from sklearn.preprocessing import StandardScaler\n",
    "from imblearn.under_sampling import RandomUnderSampler\n",
    "from sklearn.model_selection import train_test_split\n",
    "from sklearn.utils import shuffle\n",
    "\n",
    "from sklearn.linear_model import LinearRegression\n",
    "from sklearn.linear_model import LogisticRegression\n",
    "from sklearn.metrics import mean_squared_error, r2_score\n",
    "\n",
    "from sklearn.metrics import roc_curve, auc, log_loss\n",
    "from sklearn.metrics import classification_report, precision_recall_curve, auc\n",
    "from sklearn.metrics import accuracy_score\n",
    "from tqdm import tqdm\n",
    "\n",
    "import torch\n",
    "import torch.nn as nn\n",
    "import torch.optim as optim\n",
    "from torch.utils.data import DataLoader, TensorDataset\n",
    "\n",
    "import warnings\n",
    "warnings.filterwarnings(\"ignore\")"
   ]
  },
  {
   "cell_type": "code",
   "execution_count": null,
   "id": "9154e471",
   "metadata": {},
   "outputs": [
    {
     "name": "stdout",
     "output_type": "stream",
     "text": [
      "cuda\n"
     ]
    }
   ],
   "source": [
    "is_cuda = torch.cuda.is_available()\n",
    "device = torch.device('cuda' if is_cuda else 'cpu')\n",
    "\n",
    "print(device)"
   ]
  },
  {
   "cell_type": "code",
   "execution_count": null,
   "id": "a8f62c80",
   "metadata": {},
   "outputs": [],
   "source": [
    "data_path = \"C:/Users/GCU/Lending_club/Data_Analysis_lending-club/VAE-CTAB-GAN/Real_Datasets/train_category_1.csv\"\n",
    "df = pd.read_csv(data_path)\n",
    "\n",
    "categorical_cols = df.select_dtypes(include='object').columns.tolist()\n",
    "df_encoded = pd.get_dummies(df, columns=categorical_cols)\n",
    "\n",
    "continuous_cols = df_encoded.select_dtypes(include=['float64', 'int64']).columns.difference(['loan_status'])\n",
    "scaler = MinMaxScaler()\n",
    "df_encoded[continuous_cols] = scaler.fit_transform(df_encoded[continuous_cols])\n",
    "\n",
    "X = df_encoded.drop(columns=[\"loan_status\"]).values.astype(np.float32)\n",
    "y = df_encoded[\"loan_status\"].values"
   ]
  },
  {
   "cell_type": "code",
   "execution_count": null,
   "id": "63a19247",
   "metadata": {},
   "outputs": [],
   "source": [
    "class VAE(nn.Module):\n",
    "    def __init__(self, input_dim, latent_dim=32):\n",
    "        super(VAE, self).__init__()\n",
    "        self.encoder = nn.Sequential(\n",
    "            nn.Linear(input_dim, 128),\n",
    "            nn.ReLU(),\n",
    "            nn.Linear(128, 64),\n",
    "            nn.ReLU()\n",
    "        )\n",
    "        self.fc_mu = nn.Linear(64, latent_dim)\n",
    "        self.fc_logvar = nn.Linear(64, latent_dim)\n",
    "        self.decoder = nn.Sequential(\n",
    "            nn.Linear(latent_dim, 64),\n",
    "            nn.ReLU(),\n",
    "            nn.Linear(64, 128),\n",
    "            nn.ReLU(),\n",
    "            nn.Linear(128, input_dim)\n",
    "        )\n",
    "\n",
    "    def reparameterize(self, mu, logvar):\n",
    "        std = torch.exp(0.5 * logvar)\n",
    "        eps = torch.randn_like(std)\n",
    "        return mu + eps * std\n",
    "\n",
    "    def forward(self, x):\n",
    "        h = self.encoder(x)\n",
    "        mu = self.fc_mu(h)\n",
    "        logvar = self.fc_logvar(h)\n",
    "        z = self.reparameterize(mu, logvar)\n",
    "        return self.decoder(z), mu, logvar"
   ]
  },
  {
   "cell_type": "code",
   "execution_count": null,
   "id": "fb457bb8",
   "metadata": {},
   "outputs": [],
   "source": [
    "device = torch.device(\"cuda\" if torch.cuda.is_available() else \"cpu\")\n",
    "vae = VAE(input_dim=X.shape[1]).to(device)\n",
    "optimizer = optim.Adam(vae.parameters(), lr=1e-3)\n",
    "loss_fn = nn.MSELoss()\n",
    "\n",
    "X_tensor = torch.tensor(X, dtype=torch.float32)\n",
    "train_loader = DataLoader(TensorDataset(X_tensor), batch_size=64, shuffle=True)\n",
    "\n",
    "def vae_loss(recon_x, x, mu, logvar):\n",
    "    recon = loss_fn(recon_x, x)\n",
    "    kl = -0.5 * torch.mean(1 + logvar - mu.pow(2) - logvar.exp())\n",
    "    return recon + kl"
   ]
  },
  {
   "cell_type": "code",
   "execution_count": null,
   "id": "e9cbcd69",
   "metadata": {},
   "outputs": [
    {
     "name": "stderr",
     "output_type": "stream",
     "text": [
      "Epoch ::  20%|██        | 1/5 [00:07<00:30,  7.73s/it]"
     ]
    },
    {
     "name": "stdout",
     "output_type": "stream",
     "text": [
      "Epoch 1, Loss: 157.7943\n"
     ]
    },
    {
     "name": "stderr",
     "output_type": "stream",
     "text": [
      "Epoch ::  40%|████      | 2/5 [00:15<00:22,  7.58s/it]"
     ]
    },
    {
     "name": "stdout",
     "output_type": "stream",
     "text": [
      "Epoch 2, Loss: 156.5616\n"
     ]
    },
    {
     "name": "stderr",
     "output_type": "stream",
     "text": [
      "Epoch ::  60%|██████    | 3/5 [00:23<00:15,  7.70s/it]"
     ]
    },
    {
     "name": "stdout",
     "output_type": "stream",
     "text": [
      "Epoch 3, Loss: 156.5106\n"
     ]
    },
    {
     "name": "stderr",
     "output_type": "stream",
     "text": [
      "Epoch ::  80%|████████  | 4/5 [00:30<00:07,  7.78s/it]"
     ]
    },
    {
     "name": "stdout",
     "output_type": "stream",
     "text": [
      "Epoch 4, Loss: 156.4790\n"
     ]
    },
    {
     "name": "stderr",
     "output_type": "stream",
     "text": [
      "Epoch :: 100%|██████████| 5/5 [00:38<00:00,  7.77s/it]"
     ]
    },
    {
     "name": "stdout",
     "output_type": "stream",
     "text": [
      "Epoch 5, Loss: 156.4593\n"
     ]
    },
    {
     "name": "stderr",
     "output_type": "stream",
     "text": [
      "\n"
     ]
    }
   ],
   "source": [
    "for epoch in tqdm(range(500),desc=\"Epoch :\"):\n",
    "    vae.train()\n",
    "    total_loss = 0\n",
    "    for batch in train_loader:\n",
    "        x = batch[0].to(device)\n",
    "        optimizer.zero_grad()\n",
    "        recon, mu, logvar = vae(x)\n",
    "        loss = vae_loss(recon, x, mu, logvar)\n",
    "        loss.backward()\n",
    "        optimizer.step()\n",
    "        total_loss += loss.item()\n",
    "    print(f\"Epoch {epoch+1}, Loss: {total_loss:.4f}\")"
   ]
  },
  {
   "cell_type": "code",
   "execution_count": null,
   "id": "17a1e94c",
   "metadata": {},
   "outputs": [],
   "source": [
    "def inverse_one_hot(samples_df, original_df, categorical_cols):\n",
    "    decoded_df = samples_df.copy()\n",
    "\n",
    "    for col in categorical_cols:\n",
    "        # 원래 one-hot으로 생성된 컬럼 리스트 추출\n",
    "        one_hot_cols = [c for c in samples_df.columns if c.startswith(col + '_')]\n",
    "        if not one_hot_cols:\n",
    "            continue\n",
    "        \n",
    "        # one-hot 복원: 가장 큰 값의 인덱스를 카테고리로\n",
    "        col_values = pd.Series(np.argmax(samples_df[one_hot_cols].values, axis=1))\n",
    "        col_categories = [c.split('_', 1)[1] for c in one_hot_cols]\n",
    "        decoded_df[col] = col_values.map(lambda x: col_categories[x])\n",
    "\n",
    "        # one-hot 컬럼 제거\n",
    "        decoded_df = decoded_df.drop(columns=one_hot_cols)\n",
    "\n",
    "    return decoded_df\n"
   ]
  },
  {
   "cell_type": "code",
   "execution_count": null,
   "id": "0bf0bf44",
   "metadata": {},
   "outputs": [
    {
     "data": {
      "text/html": [
       "<div>\n",
       "<style scoped>\n",
       "    .dataframe tbody tr th:only-of-type {\n",
       "        vertical-align: middle;\n",
       "    }\n",
       "\n",
       "    .dataframe tbody tr th {\n",
       "        vertical-align: top;\n",
       "    }\n",
       "\n",
       "    .dataframe thead th {\n",
       "        text-align: right;\n",
       "    }\n",
       "</style>\n",
       "<table border=\"1\" class=\"dataframe\">\n",
       "  <thead>\n",
       "    <tr style=\"text-align: right;\">\n",
       "      <th></th>\n",
       "      <th>last_fico_range_high</th>\n",
       "      <th>annual_inc</th>\n",
       "      <th>dti</th>\n",
       "      <th>mo_sin_old_rev_tl_op</th>\n",
       "      <th>revol_util</th>\n",
       "      <th>int_rate</th>\n",
       "      <th>installment</th>\n",
       "      <th>avg_cur_bal</th>\n",
       "      <th>revol_bal</th>\n",
       "      <th>total_pymnt</th>\n",
       "      <th>...</th>\n",
       "      <th>funded_amnt</th>\n",
       "      <th>loan_amnt</th>\n",
       "      <th>credit_history_years</th>\n",
       "      <th>term_months</th>\n",
       "      <th>loan_status</th>\n",
       "      <th>debt_settlement_flag</th>\n",
       "      <th>sub_grade</th>\n",
       "      <th>home_ownership</th>\n",
       "      <th>purpose</th>\n",
       "      <th>grade</th>\n",
       "    </tr>\n",
       "  </thead>\n",
       "  <tbody>\n",
       "    <tr>\n",
       "      <th>0</th>\n",
       "      <td>569.839783</td>\n",
       "      <td>67685.351562</td>\n",
       "      <td>17.982821</td>\n",
       "      <td>167.109604</td>\n",
       "      <td>0.539079</td>\n",
       "      <td>0.159572</td>\n",
       "      <td>479.713867</td>\n",
       "      <td>9764.252930</td>\n",
       "      <td>12579.801758</td>\n",
       "      <td>8788.825195</td>\n",
       "      <td>...</td>\n",
       "      <td>16137.469727</td>\n",
       "      <td>16148.141602</td>\n",
       "      <td>15.316967</td>\n",
       "      <td>46.069893</td>\n",
       "      <td>1</td>\n",
       "      <td>settlement_flag_N</td>\n",
       "      <td>grade_D2</td>\n",
       "      <td>ownership_RENT</td>\n",
       "      <td>debt_consolidation</td>\n",
       "      <td>C</td>\n",
       "    </tr>\n",
       "    <tr>\n",
       "      <th>1</th>\n",
       "      <td>569.880859</td>\n",
       "      <td>68485.632812</td>\n",
       "      <td>17.968756</td>\n",
       "      <td>167.164444</td>\n",
       "      <td>0.539242</td>\n",
       "      <td>0.159577</td>\n",
       "      <td>479.752472</td>\n",
       "      <td>9760.482422</td>\n",
       "      <td>12581.774414</td>\n",
       "      <td>8794.366211</td>\n",
       "      <td>...</td>\n",
       "      <td>16133.069336</td>\n",
       "      <td>16149.683594</td>\n",
       "      <td>15.312990</td>\n",
       "      <td>46.070869</td>\n",
       "      <td>1</td>\n",
       "      <td>settlement_flag_N</td>\n",
       "      <td>grade_D2</td>\n",
       "      <td>ownership_RENT</td>\n",
       "      <td>debt_consolidation</td>\n",
       "      <td>C</td>\n",
       "    </tr>\n",
       "    <tr>\n",
       "      <th>2</th>\n",
       "      <td>569.839783</td>\n",
       "      <td>67685.351562</td>\n",
       "      <td>17.982821</td>\n",
       "      <td>167.109604</td>\n",
       "      <td>0.539079</td>\n",
       "      <td>0.159572</td>\n",
       "      <td>479.713867</td>\n",
       "      <td>9764.252930</td>\n",
       "      <td>12579.801758</td>\n",
       "      <td>8788.825195</td>\n",
       "      <td>...</td>\n",
       "      <td>16137.469727</td>\n",
       "      <td>16148.141602</td>\n",
       "      <td>15.316967</td>\n",
       "      <td>46.069893</td>\n",
       "      <td>1</td>\n",
       "      <td>settlement_flag_N</td>\n",
       "      <td>grade_D2</td>\n",
       "      <td>ownership_RENT</td>\n",
       "      <td>debt_consolidation</td>\n",
       "      <td>C</td>\n",
       "    </tr>\n",
       "    <tr>\n",
       "      <th>3</th>\n",
       "      <td>569.839783</td>\n",
       "      <td>67685.351562</td>\n",
       "      <td>17.982821</td>\n",
       "      <td>167.109604</td>\n",
       "      <td>0.539079</td>\n",
       "      <td>0.159572</td>\n",
       "      <td>479.713867</td>\n",
       "      <td>9764.252930</td>\n",
       "      <td>12579.801758</td>\n",
       "      <td>8788.825195</td>\n",
       "      <td>...</td>\n",
       "      <td>16137.469727</td>\n",
       "      <td>16148.141602</td>\n",
       "      <td>15.316967</td>\n",
       "      <td>46.069893</td>\n",
       "      <td>1</td>\n",
       "      <td>settlement_flag_N</td>\n",
       "      <td>grade_D2</td>\n",
       "      <td>ownership_RENT</td>\n",
       "      <td>debt_consolidation</td>\n",
       "      <td>C</td>\n",
       "    </tr>\n",
       "    <tr>\n",
       "      <th>4</th>\n",
       "      <td>569.839783</td>\n",
       "      <td>67685.351562</td>\n",
       "      <td>17.982821</td>\n",
       "      <td>167.109604</td>\n",
       "      <td>0.539079</td>\n",
       "      <td>0.159572</td>\n",
       "      <td>479.713867</td>\n",
       "      <td>9764.252930</td>\n",
       "      <td>12579.801758</td>\n",
       "      <td>8788.825195</td>\n",
       "      <td>...</td>\n",
       "      <td>16137.469727</td>\n",
       "      <td>16148.141602</td>\n",
       "      <td>15.316967</td>\n",
       "      <td>46.069893</td>\n",
       "      <td>1</td>\n",
       "      <td>settlement_flag_N</td>\n",
       "      <td>grade_D2</td>\n",
       "      <td>ownership_RENT</td>\n",
       "      <td>debt_consolidation</td>\n",
       "      <td>C</td>\n",
       "    </tr>\n",
       "  </tbody>\n",
       "</table>\n",
       "<p>5 rows × 21 columns</p>\n",
       "</div>"
      ],
      "text/plain": [
       "   last_fico_range_high    annual_inc        dti  mo_sin_old_rev_tl_op  \\\n",
       "0            569.839783  67685.351562  17.982821            167.109604   \n",
       "1            569.880859  68485.632812  17.968756            167.164444   \n",
       "2            569.839783  67685.351562  17.982821            167.109604   \n",
       "3            569.839783  67685.351562  17.982821            167.109604   \n",
       "4            569.839783  67685.351562  17.982821            167.109604   \n",
       "\n",
       "   revol_util  int_rate  installment  avg_cur_bal     revol_bal  total_pymnt  \\\n",
       "0    0.539079  0.159572   479.713867  9764.252930  12579.801758  8788.825195   \n",
       "1    0.539242  0.159577   479.752472  9760.482422  12581.774414  8794.366211   \n",
       "2    0.539079  0.159572   479.713867  9764.252930  12579.801758  8788.825195   \n",
       "3    0.539079  0.159572   479.713867  9764.252930  12579.801758  8788.825195   \n",
       "4    0.539079  0.159572   479.713867  9764.252930  12579.801758  8788.825195   \n",
       "\n",
       "   ...   funded_amnt     loan_amnt  credit_history_years  term_months  \\\n",
       "0  ...  16137.469727  16148.141602             15.316967    46.069893   \n",
       "1  ...  16133.069336  16149.683594             15.312990    46.070869   \n",
       "2  ...  16137.469727  16148.141602             15.316967    46.069893   \n",
       "3  ...  16137.469727  16148.141602             15.316967    46.069893   \n",
       "4  ...  16137.469727  16148.141602             15.316967    46.069893   \n",
       "\n",
       "   loan_status  debt_settlement_flag sub_grade  home_ownership  \\\n",
       "0            1     settlement_flag_N  grade_D2  ownership_RENT   \n",
       "1            1     settlement_flag_N  grade_D2  ownership_RENT   \n",
       "2            1     settlement_flag_N  grade_D2  ownership_RENT   \n",
       "3            1     settlement_flag_N  grade_D2  ownership_RENT   \n",
       "4            1     settlement_flag_N  grade_D2  ownership_RENT   \n",
       "\n",
       "              purpose grade  \n",
       "0  debt_consolidation     C  \n",
       "1  debt_consolidation     C  \n",
       "2  debt_consolidation     C  \n",
       "3  debt_consolidation     C  \n",
       "4  debt_consolidation     C  \n",
       "\n",
       "[5 rows x 21 columns]"
      ]
     },
     "execution_count": 39,
     "metadata": {},
     "output_type": "execute_result"
    }
   ],
   "source": [
    "vae.eval()\n",
    "with torch.no_grad():\n",
    "    z = torch.randn(540, 32).to(device)\n",
    "    samples = vae.decoder(z).cpu().numpy()\n",
    "\n",
    "# 🔄 Inverse Transform\n",
    "columns = df_encoded.drop(columns=[\"loan_status\"]).columns\n",
    "samples_df = pd.DataFrame(samples, columns=columns)\n",
    "samples_df[\"loan_status\"] = 1\n",
    "\n",
    "samples_df[continuous_cols] = scaler.inverse_transform(samples_df[continuous_cols])\n",
    "samples_decoded = inverse_one_hot(samples_df, df, categorical_cols)\n",
    "\n",
    "samples_decoded.head()"
   ]
  },
  {
   "cell_type": "code",
   "execution_count": null,
   "id": "8adbba62",
   "metadata": {},
   "outputs": [],
   "source": [
    "save_path = \"C:/Users/GCU/Lending_club/Data_Analysis_lending-club/VAE-CTAB-GAN/Fake_Datasets/\"\n",
    "samples_decoded.to_csv(path_or_buf=save_path+\"VAE.csv\", index=False)"
   ]
  },
  {
   "cell_type": "code",
   "execution_count": null,
   "id": "5c856e26",
   "metadata": {},
   "outputs": [],
   "source": [
    "sample_data_path = \"C:/Users/GCU/Lending_club/Data_Analysis_lending-club/VAE-CTAB-GAN/Fake_Datasets/VAE.csv\"\n",
    "\n",
    "fake = pd.read_csv(sample_data_path)"
   ]
  },
  {
   "cell_type": "code",
   "execution_count": null,
   "id": "2262abef",
   "metadata": {},
   "outputs": [
    {
     "name": "stdout",
     "output_type": "stream",
     "text": [
      "<class 'pandas.core.frame.DataFrame'>\n",
      "RangeIndex: 540 entries, 0 to 539\n",
      "Data columns (total 21 columns):\n",
      " #   Column                Non-Null Count  Dtype  \n",
      "---  ------                --------------  -----  \n",
      " 0   last_fico_range_high  0 non-null      float64\n",
      " 1   annual_inc            0 non-null      float64\n",
      " 2   dti                   0 non-null      float64\n",
      " 3   mo_sin_old_rev_tl_op  0 non-null      float64\n",
      " 4   revol_util            0 non-null      float64\n",
      " 5   int_rate              0 non-null      float64\n",
      " 6   installment           0 non-null      float64\n",
      " 7   avg_cur_bal           0 non-null      float64\n",
      " 8   revol_bal             0 non-null      float64\n",
      " 9   total_pymnt           0 non-null      float64\n",
      " 10  total_pymnt_inv       0 non-null      float64\n",
      " 11  funded_amnt           0 non-null      float64\n",
      " 12  loan_amnt             0 non-null      float64\n",
      " 13  credit_history_years  0 non-null      float64\n",
      " 14  term_months           0 non-null      float64\n",
      " 15  loan_status           540 non-null    int64  \n",
      " 16  debt_settlement_flag  0 non-null      float64\n",
      " 17  sub_grade             0 non-null      float64\n",
      " 18  home_ownership        0 non-null      float64\n",
      " 19  purpose               0 non-null      float64\n",
      " 20  grade                 0 non-null      float64\n",
      "dtypes: float64(20), int64(1)\n",
      "memory usage: 88.7 KB\n"
     ]
    }
   ],
   "source": [
    "fake.info()"
   ]
  }
 ],
 "metadata": {
  "kernelspec": {
   "display_name": "CTGAN",
   "language": "python",
   "name": "python3"
  },
  "language_info": {
   "codemirror_mode": {
    "name": "ipython",
    "version": 3
   },
   "file_extension": ".py",
   "mimetype": "text/x-python",
   "name": "python",
   "nbconvert_exporter": "python",
   "pygments_lexer": "ipython3",
   "version": "3.12.3"
  }
 },
 "nbformat": 4,
 "nbformat_minor": 5
}

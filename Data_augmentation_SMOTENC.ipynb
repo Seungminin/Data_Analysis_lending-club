{
 "cells": [
  {
   "cell_type": "markdown",
   "metadata": {},
   "source": [
    "## Data augmentation\n",
    "\n",
    "### Oversampling\n",
    "- SMOTE-NC"
   ]
  },
  {
   "cell_type": "code",
   "execution_count": 1,
   "metadata": {},
   "outputs": [],
   "source": [
    "import pandas as pd\n",
    "import matplotlib.pyplot as plt\n",
    "import numpy as np\n",
    "import seaborn as sns\n",
    "\n",
    "from sklearn.preprocessing import LabelEncoder, MinMaxScaler\n",
    "from imblearn.under_sampling import RandomUnderSampler\n",
    "from imblearn.over_sampling import SMOTE\n",
    "from sklearn.model_selection import train_test_split\n",
    "\n",
    "from sklearn.metrics import classification_report, precision_recall_curve, auc, roc_curve\n",
    "from sklearn.ensemble import RandomForestClassifier\n",
    "from xgboost import XGBClassifier\n",
    "from sklearn.metrics import accuracy_score\n",
    "from tqdm import tqdm\n",
    "\n",
    "import os\n",
    "\n",
    "import torch\n",
    "\n",
    "import warnings\n",
    "warnings.filterwarnings(\"ignore\") "
   ]
  },
  {
   "cell_type": "code",
   "execution_count": 2,
   "metadata": {},
   "outputs": [
    {
     "name": "stdout",
     "output_type": "stream",
     "text": [
      "cuda\n"
     ]
    }
   ],
   "source": [
    "is_cuda = torch.cuda.is_available()\n",
    "device = torch.device('cuda' if is_cuda else 'cpu')\n",
    "\n",
    "print(device)"
   ]
  },
  {
   "cell_type": "code",
   "execution_count": 5,
   "metadata": {},
   "outputs": [],
   "source": [
    "## Load before 2017 data\n",
    "data_path = \"C:/Users/GCU/Lending_club/Data_Analysis_lending-club/Dataset/defalut_original_train_before_2017.csv\"\n",
    "data = pd.read_csv(data_path, low_memory=False)"
   ]
  },
  {
   "cell_type": "markdown",
   "metadata": {},
   "source": [
    "### Data Preprocessing"
   ]
  },
  {
   "cell_type": "code",
   "execution_count": 6,
   "metadata": {},
   "outputs": [
    {
     "data": {
      "text/plain": [
       "loan_status\n",
       "0    1207257\n",
       "1     287765\n",
       "Name: count, dtype: int64"
      ]
     },
     "execution_count": 6,
     "metadata": {},
     "output_type": "execute_result"
    }
   ],
   "source": [
    "data['loan_status'].value_counts()"
   ]
  },
  {
   "cell_type": "code",
   "execution_count": 7,
   "metadata": {},
   "outputs": [
    {
     "data": {
      "image/png": "[encoded data removed]",
      "text/plain": [
       "<Figure size 700x500 with 1 Axes>"
      ]
     },
     "metadata": {},
     "output_type": "display_data"
    }
   ],
   "source": [
    "# Visualizing the encoded target\n",
    "\n",
    "defalut_fully_paid = data['loan_status'].value_counts()\n",
    "\n",
    "fig, ax = plt.subplots(figsize=(7,5), layout='constrained')\n",
    "rects = ax.bar(x=2, height=defalut_fully_paid[0], width=1, label=\"Fully Paid\", edgecolor=\"black\")\n",
    "rects = ax.bar(x=4, height=defalut_fully_paid[1], width=1, label=\"Default\", edgecolor=\"black\")\n",
    "ax.bar_label(rects, padding=2)\n",
    "\n",
    "\n",
    "ax.set_ylabel('Number of cases',size=10)\n",
    "ax.set_xlabel('Classes',size=10)\n",
    "ax.set_title('Number of Fully Paid vs Default vs None Loans',size=15)\n",
    "\n",
    "ax.set_xticks([2,4], [\"Fully Paid\",\"Default\"])\n",
    "\n",
    "ax.set_ylim(0, 1800000)\n",
    "\n",
    "ax.text(1.6,1550000,defalut_fully_paid[0])\n",
    "#ax.text(3.7,400000,defalut_fully_paid[1])\n",
    "# ax.text(5.6,1150000,none_)\n",
    "\n",
    "fig.show()"
   ]
  },
  {
   "cell_type": "code",
   "execution_count": 8,
   "metadata": {},
   "outputs": [
    {
     "name": "stdout",
     "output_type": "stream",
     "text": [
      "Ratio of: (Fully Paid) / Default  : 4.195287821660035\n"
     ]
    }
   ],
   "source": [
    "# We see that the ration of Fully Paid and Default is almost 1 to 4.  (거의 1:4비율이다)\n",
    "print(f\"Ratio of: (Fully Paid) / Default  : {defalut_fully_paid[0]/defalut_fully_paid[1]}\")"
   ]
  },
  {
   "cell_type": "code",
   "execution_count": 11,
   "metadata": {},
   "outputs": [
    {
     "name": "stdout",
     "output_type": "stream",
     "text": [
      "The number of features : 66\n",
      "The target feature : Index(['loan_status'], dtype='object')\n"
     ]
    }
   ],
   "source": [
    "print(f\"The number of features : {len(data.columns)}\\nThe target feature : {data[['loan_status']].columns}\")"
   ]
  },
  {
   "cell_type": "markdown",
   "metadata": {},
   "source": [
    "### Apply OverSampling "
   ]
  },
  {
   "cell_type": "code",
   "execution_count": 12,
   "metadata": {},
   "outputs": [],
   "source": [
    "##load test data\n",
    "test_data_path = \"C:/Users/GCU/Lending_club/Data_Analysis_lending-club/Dataset/defalut_original_test_after_2017.csv\"\n",
    "test_data = pd.read_csv(test_data_path)"
   ]
  },
  {
   "cell_type": "code",
   "execution_count": 13,
   "metadata": {},
   "outputs": [
    {
     "name": "stdout",
     "output_type": "stream",
     "text": [
      "<class 'pandas.core.frame.DataFrame'>\n",
      "RangeIndex: 1495022 entries, 0 to 1495021\n",
      "Data columns (total 65 columns):\n",
      " #   Column                      Non-Null Count    Dtype  \n",
      "---  ------                      --------------    -----  \n",
      " 0   loan_amnt                   1495022 non-null  float64\n",
      " 1   funded_amnt                 1495022 non-null  float64\n",
      " 2   funded_amnt_inv             1495022 non-null  float64\n",
      " 3   term                        1495022 non-null  object \n",
      " 4   int_rate                    1495022 non-null  float64\n",
      " 5   installment                 1495022 non-null  float64\n",
      " 6   grade                       1495022 non-null  object \n",
      " 7   sub_grade                   1495022 non-null  object \n",
      " 8   home_ownership              1495022 non-null  object \n",
      " 9   annual_inc                  1495022 non-null  float64\n",
      " 10  verification_status         1495022 non-null  object \n",
      " 11  zip_code                    1495022 non-null  float64\n",
      " 12  addr_state                  1495022 non-null  object \n",
      " 13  dti                         1495022 non-null  float64\n",
      " 14  delinq_2yrs                 1495022 non-null  float64\n",
      " 15  earliest_cr_line            1495022 non-null  int64  \n",
      " 16  fico_range_low              1495022 non-null  float64\n",
      " 17  fico_range_high             1495022 non-null  float64\n",
      " 18  inq_last_6mths              1495022 non-null  float64\n",
      " 19  open_acc                    1495022 non-null  float64\n",
      " 20  pub_rec                     1495022 non-null  float64\n",
      " 21  revol_bal                   1495022 non-null  float64\n",
      " 22  revol_util                  1495022 non-null  float64\n",
      " 23  total_acc                   1495022 non-null  float64\n",
      " 24  initial_list_status         1495022 non-null  object \n",
      " 25  collections_12_mths_ex_med  1495022 non-null  float64\n",
      " 26  application_type            1495022 non-null  object \n",
      " 27  acc_now_delinq              1495022 non-null  float64\n",
      " 28  tot_coll_amt                1495022 non-null  float64\n",
      " 29  tot_cur_bal                 1495022 non-null  float64\n",
      " 30  total_rev_hi_lim            1495022 non-null  float64\n",
      " 31  acc_open_past_24mths        1495022 non-null  float64\n",
      " 32  avg_cur_bal                 1495022 non-null  float64\n",
      " 33  bc_open_to_buy              1495022 non-null  float64\n",
      " 34  bc_util                     1495022 non-null  float64\n",
      " 35  chargeoff_within_12_mths    1495022 non-null  float64\n",
      " 36  delinq_amnt                 1495022 non-null  float64\n",
      " 37  mo_sin_old_rev_tl_op        1495022 non-null  float64\n",
      " 38  mo_sin_rcnt_rev_tl_op       1495022 non-null  float64\n",
      " 39  mo_sin_rcnt_tl              1495022 non-null  float64\n",
      " 40  mort_acc                    1495022 non-null  float64\n",
      " 41  mths_since_recent_bc        1495022 non-null  float64\n",
      " 42  num_accts_ever_120_pd       1495022 non-null  float64\n",
      " 43  num_actv_bc_tl              1495022 non-null  float64\n",
      " 44  num_actv_rev_tl             1495022 non-null  float64\n",
      " 45  num_bc_sats                 1495022 non-null  float64\n",
      " 46  num_bc_tl                   1495022 non-null  float64\n",
      " 47  num_il_tl                   1495022 non-null  float64\n",
      " 48  num_op_rev_tl               1495022 non-null  float64\n",
      " 49  num_rev_accts               1495022 non-null  float64\n",
      " 50  num_rev_tl_bal_gt_0         1495022 non-null  float64\n",
      " 51  num_sats                    1495022 non-null  float64\n",
      " 52  num_tl_30dpd                1495022 non-null  float64\n",
      " 53  num_tl_90g_dpd_24m          1495022 non-null  float64\n",
      " 54  num_tl_op_past_12m          1495022 non-null  float64\n",
      " 55  pct_tl_nvr_dlq              1495022 non-null  float64\n",
      " 56  percent_bc_gt_75            1495022 non-null  float64\n",
      " 57  pub_rec_bankruptcies        1495022 non-null  float64\n",
      " 58  tax_liens                   1495022 non-null  float64\n",
      " 59  tot_hi_cred_lim             1495022 non-null  float64\n",
      " 60  total_bal_ex_mort           1495022 non-null  float64\n",
      " 61  total_bc_limit              1495022 non-null  float64\n",
      " 62  total_il_high_credit_limit  1495022 non-null  float64\n",
      " 63  hardship_flag               1495022 non-null  object \n",
      " 64  debt_settlement_flag        1495022 non-null  object \n",
      "dtypes: float64(54), int64(1), object(10)\n",
      "memory usage: 741.4+ MB\n"
     ]
    }
   ],
   "source": [
    "X_train = data.drop(columns='loan_status')\n",
    "y_train = data[['loan_status']]\n",
    "\n",
    "X_train.info()"
   ]
  },
  {
   "cell_type": "code",
   "execution_count": null,
   "metadata": {},
   "outputs": [],
   "source": [
    "from imblearn.over_sampling import SMOTENC\n",
    "\n",
    "categorical_features = X_train.select_dtypes(include=['object', 'category']).columns\n",
    "categorical_feature_indices = [X_train.columns.get_loc(col) for col in categorical_features]\n",
    "\n",
    "smotenc = SMOTENC(categorical_features=categorical_feature_indices, random_state=42)\n",
    "X_train_smotenc, y_train_smotenc = smotenc.fit_resample(X_train, y_train)\n",
    "\n",
    "\n",
    "print(f\"Before Oversampling:\\n{y_train['loan_status'].value_counts()}\")\n",
    "print(f\"After Oversampling:\\n{pd.Series(y_train_smotenc).value_counts()}\")\n",
    "\n",
    "## 증강 시간이 오래 걸리기 때문 데이터 저장을 한다.\n",
    "augmentation_data = pd.concat([X_train_smotenc, y_train_smotenc], axis = 1)\n",
    "\n",
    "address = \"C:/Users/GCU/Lending_club/Data_Analysis_lending-club/Dataset/\"\n",
    "\n",
    "augmentation_data.to_csv(path_or_buf=address+\"smotenc_data.csv\", index=False)"
   ]
  },
  {
   "cell_type": "code",
   "execution_count": null,
   "metadata": {},
   "outputs": [],
   "source": [
    "\"\"\"## 증강 시간이 오래 걸리기 때문 데이터 저장을 한다.\n",
    "augmentation_data = pd.concat([X_train_smotenc, y_train_smotenc], axis = 1)\n",
    "\n",
    "address = \"C:/Users/GCU/Lending_club/Data_Analysis_lending-club/Dataset\"\n",
    "\n",
    "augmentation_data.to_csv(path_or_buf=address+\"smotenc_data.csv\", index=False)\"\"\""
   ]
  },
  {
   "cell_type": "code",
   "execution_count": null,
   "metadata": {},
   "outputs": [],
   "source": [
    "data_path = \"C:/Users/GCU/Lending_club/Data_Analysis_lending-club/Dataset/smotenc_data.csv\"\n",
    "augmentation_data = pd.read_csv(data_path)"
   ]
  },
  {
   "cell_type": "code",
   "execution_count": null,
   "metadata": {},
   "outputs": [],
   "source": [
    "X_train_smotenc = augmentation_data.drop(columns='loan_status')\n",
    "y_train_smotenc = augmentation_data[['loan_status']]"
   ]
  },
  {
   "cell_type": "code",
   "execution_count": null,
   "metadata": {},
   "outputs": [],
   "source": [
    "# Visualizing the encoded target\n",
    "\n",
    "defalut_fully_paid = y_train_smotenc.value_counts()\n",
    "\n",
    "fig, ax = plt.subplots(figsize=(7,5), layout='constrained')\n",
    "rects = ax.bar(x=2, height=defalut_fully_paid[0], width=1, label=\"Fully Paid\", edgecolor=\"black\")\n",
    "rects = ax.bar(x=4, height=defalut_fully_paid[1], width=1, label=\"Default\", edgecolor=\"black\")\n",
    "ax.bar_label(rects, padding=2)\n",
    "\n",
    "\n",
    "ax.set_ylabel('Number of cases',size=10)\n",
    "ax.set_xlabel('Classes',size=10)\n",
    "ax.set_title('Numbe of Fully Paid vs Default vs None Loans',size=15)\n",
    "\n",
    "ax.set_xticks([2,4], [\"Fully Paid\",\"Default\"])\n",
    "\n",
    "ax.set_ylim(0, 1800000)\n",
    "\n",
    "ax.text(1.7,400000,defalut_fully_paid[0])\n",
    "# ax.text(5.6,1150000,none_)\n",
    "\n",
    "fig.show()"
   ]
  },
  {
   "cell_type": "code",
   "execution_count": null,
   "metadata": {},
   "outputs": [],
   "source": [
    "# data under 6:2:2 train,val,test set\n",
    "\n",
    "X_train, X_val, y_train, y_val = train_test_split(X_train_smotenc, y_train_smotenc, test_size=0.2, random_state=42, stratify=y_train_smotenc)\n",
    "\n",
    "X_test = test_data.drop(columns = 'loan_status')\n",
    "y_test = test_data[['loan_status']]\n",
    "\n",
    "print(f\"Train size: {X_train.shape[0]} samples ({X_train.shape[0]/len(augmentation_data):.1%})\")\n",
    "print(f\"Validation size: {X_val.shape[0]} samples ({X_val.shape[0]/len(augmentation_data):.1%})\")\n",
    "print(f\"Test size: {X_test.shape[0]} samples ({X_test.shape[0]/len(augmentation_data):.1%})\")"
   ]
  },
  {
   "cell_type": "code",
   "execution_count": null,
   "metadata": {},
   "outputs": [],
   "source": [
    "import numpy as np\n",
    "import matplotlib.pyplot as plt\n",
    "import seaborn as sns\n",
    "from xgboost import XGBClassifier\n",
    "\n",
    "# 1️⃣ XGBoost 모델 정의\n",
    "model = XGBClassifier(\n",
    "    n_estimators=200,\n",
    "    learning_rate=0.001,\n",
    "    max_depth=6,\n",
    "    subsample=0.8,\n",
    "    colsample_bytree=0.8,\n",
    "    random_state=42\n",
    ")"
   ]
  },
  {
   "cell_type": "code",
   "execution_count": null,
   "metadata": {},
   "outputs": [],
   "source": [
    "model.fit(\n",
    "    X_train, y_train,\n",
    "    eval_set=[(X_train, y_train), (X_val, y_val)],  # Train & Validation Loss 저장\n",
    "    verbose=True\n",
    ")\n",
    "\n",
    "# 3️⃣ 학습 과정에서 저장된 Train & Validation Loss 가져오기\n",
    "evals_result = model.evals_result()  # 🔹 변경된 코드 (학습 후 결과 확인)\n",
    "train_loss = evals_result['validation_0']['logloss']  # Training Loss\n",
    "val_loss = evals_result['validation_1']['logloss']    # Validation Loss\n",
    "\n",
    "# 4️⃣ Train & Validation Loss 시각화\n",
    "plt.figure(figsize=(8, 5))\n",
    "plt.plot(train_loss, label='Train Loss (Log Loss)', color='blue')\n",
    "plt.plot(val_loss, label='Validation Loss (Log Loss)', color='red')\n",
    "plt.xlabel('Iterations')\n",
    "plt.ylabel('Log Loss')\n",
    "plt.title('XGBoost Training & Validation Loss Curve')\n",
    "plt.legend()\n",
    "plt.show()\n",
    "\n",
    "# 5️⃣ 예측 및 평가\n",
    "y_pred = model.predict(X_test)\n",
    "y_prob = model.predict_proba(X_test)[:, 1]  # ROC Curve & PRC에 필요\n",
    "\n",
    "# 🔹 Classification Report 출력\n",
    "print(\"🔹 Classification Report:\")\n",
    "print(classification_report(y_test, y_pred))\n",
    "\n",
    "# 6️⃣ ROC Curve & AUC-ROC 계산\n",
    "fpr, tpr, _ = roc_curve(y_test, y_prob)\n",
    "auc_roc = auc(fpr, tpr)\n",
    "\n",
    "# 7️⃣ Precision-Recall Curve & AU-PRC 계산\n",
    "precision, recall, _ = precision_recall_curve(y_test, y_prob)\n",
    "auc_prc = auc(recall, precision)"
   ]
  },
  {
   "cell_type": "code",
   "execution_count": null,
   "metadata": {},
   "outputs": [],
   "source": [
    "# 8️⃣ ROC & Precision-Recall Curve 시각화 함수\n",
    "def plot_evaluation_curves(fpr, tpr, auc_roc, recall, precision, auc_prc):\n",
    "    plt.figure(figsize=(12, 5))\n",
    "\n",
    "    # 🔹 ROC Curve\n",
    "    plt.subplot(1, 2, 1)\n",
    "    plt.plot(fpr, tpr, marker='.', label=f\"AUC-ROC = {auc_roc:.4f}\")\n",
    "    plt.plot([0, 1], [0, 1], linestyle='--', color='gray')  # 랜덤 모델 기준선\n",
    "    plt.xlabel('False Positive Rate (FPR)')\n",
    "    plt.ylabel('True Positive Rate (TPR)')\n",
    "    plt.title('ROC Curve_undersampling')\n",
    "    plt.legend()\n",
    "\n",
    "    # 🔹 Precision-Recall Curve\n",
    "    plt.subplot(1, 2, 2)\n",
    "    plt.plot(recall, precision, marker='.', label=f\"AU-PRC = {auc_prc:.4f}\")\n",
    "    plt.xlabel('Recall')\n",
    "    plt.ylabel('Precision')\n",
    "    plt.title('Precision-Recall Curve_undersampling')\n",
    "    plt.legend()\n",
    "\n",
    "    plt.tight_layout()\n",
    "    plt.show()\n",
    "\n",
    "# 9️⃣ 결과 시각화 실행\n",
    "plot_evaluation_curves(fpr, tpr, auc_roc, recall, precision, auc_prc)"
   ]
  }
 ],
 "metadata": {
  "kernelspec": {
   "display_name": "CTGAN",
   "language": "python",
   "name": "python3"
  },
  "language_info": {
   "codemirror_mode": {
    "name": "ipython",
    "version": 3
   },
   "file_extension": ".py",
   "mimetype": "text/x-python",
   "name": "python",
   "nbconvert_exporter": "python",
   "pygments_lexer": "ipython3",
   "version": "3.12.3"
  }
 },
 "nbformat": 4,
 "nbformat_minor": 2
}

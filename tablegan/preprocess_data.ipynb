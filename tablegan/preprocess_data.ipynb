{
 "cells": [
  {
   "cell_type": "code",
   "execution_count": 1,
   "metadata": {},
   "outputs": [],
   "source": [
    "import pandas as pd\n",
    "import pickle\n",
    "import os"
   ]
  },
  {
   "cell_type": "code",
   "execution_count": 2,
   "metadata": {},
   "outputs": [
    {
     "name": "stdout",
     "output_type": "stream",
     "text": [
      "C:\\Users\\GCU\\Lending_club\\Data_Analysis_lending-club\\tablegan\n"
     ]
    }
   ],
   "source": [
    "%cd \"C:/Users/GCU/Lending_club/Data_Analysis_lending-club/tablegan\" "
   ]
  },
  {
   "cell_type": "code",
   "execution_count": 10,
   "metadata": {},
   "outputs": [],
   "source": [
    "def cat_to_num(df, sep=',', cat_names=None):\n",
    "    if cat_names is None: cat_names = []\n",
    "    subs = {}\n",
    "    df_num = df.copy()\n",
    "    \n",
    "    # TRANSFORM TO SET TO PREVENT DOUBLE FACTORIZATION\n",
    "    for z in set(df_num.select_dtypes(include=['object']).columns.tolist() + cat_names):\n",
    "        y, label = pd.factorize(df[z])\n",
    "        subs[z] = {'y': y, 'label': label}\n",
    "        df_num[z] = y\n",
    "    return df_num, subs"
   ]
  },
  {
   "cell_type": "code",
   "execution_count": 11,
   "metadata": {},
   "outputs": [],
   "source": [
    "def transform(ds: str, suffix: str = '', sep: str = ',', ext: str = 'csv',\n",
    "              drop: list = None, cat_names: list = None, to_disk: bool = True,\n",
    "              target: str = '', d_basepath: str = 'data'):\n",
    "    \n",
    "    if target == '':\n",
    "        target = False\n",
    "    if drop is None:\n",
    "        drop = []\n",
    "    if cat_names is None:\n",
    "        cat_names = []\n",
    "\n",
    "    base_fname = f'./{d_basepath}/{ds}/{ds}'\n",
    "    source_fname = f'{base_fname}{suffix}.{ext}'\n",
    "    print(f'Basepath: {base_fname}')\n",
    "    print(f'Source file: {source_fname}')\n",
    "\n",
    "    # ✅ CSV 파일 읽기 및 오류 처리\n",
    "    try:\n",
    "        df = pd.read_csv(source_fname, sep=sep, quotechar='\"', error_bad_lines=False)\n",
    "    except pd.errors.ParserError as e:\n",
    "        print(f\"❌ CSV 파싱 오류: {e}\")\n",
    "        return None, None\n",
    "    except Exception as e:\n",
    "        print(f\"❌ CSV 파일 로드 중 오류 발생: {e}\")\n",
    "        return None, None\n",
    "\n",
    "    # ✅ 문자열 내 쉼표 및 리스트 형태 처리\n",
    "    def convert_to_number(value):\n",
    "        if isinstance(value, str):\n",
    "            value = value.strip().replace('\"', '')\n",
    "            try:\n",
    "                # 문자열 리스트 처리: \"[1.0, 2.0]\" → [1.0, 2.0]\n",
    "                if value.startswith('[') and value.endswith(']'):\n",
    "                    return ast.literal_eval(value)\n",
    "                return float(value)  # 일반 숫자 문자열 처리\n",
    "            except Exception:\n",
    "                return value  # 변환 실패 시 원래 값 반환\n",
    "        return value\n",
    "\n",
    "    df = df.applymap(convert_to_number)\n",
    "\n",
    "    # ✅ 열 삭제\n",
    "    df = df.drop(drop, axis=1, errors='ignore')\n",
    "\n",
    "    # ✅ 범주형 변수 숫자 변환\n",
    "    try:\n",
    "        df_num, subs = cat_to_num(df, cat_names=cat_names)\n",
    "    except Exception as e:\n",
    "        print(f\"❌ cat_to_num 함수 오류: {e}\")\n",
    "        return None, None\n",
    "\n",
    "    # ✅ 변환 정보 저장\n",
    "    try:\n",
    "        with open(f'{d_basepath}/{ds}/subs.pkl', 'wb') as f:\n",
    "            pickle.dump(subs, f)\n",
    "    except Exception as e:\n",
    "        print(f\"❌ subs.pkl 저장 오류: {e}\")\n",
    "\n",
    "    # ✅ 타겟 분리 및 저장\n",
    "    if target:\n",
    "        y = df_num[target]\n",
    "        df_num = df_num.drop([target], axis=1)\n",
    "\n",
    "    if to_disk:\n",
    "        if target:\n",
    "            target_fname_y = f'{base_fname}_labels.csv'\n",
    "            print(f'✅ 타겟 레이블 파일 저장: {target_fname_y}')\n",
    "            y.to_csv(target_fname_y, sep=',', index=False)\n",
    "        \n",
    "        target_fname = f'{base_fname}_encoding.csv'\n",
    "        print(f'✅ 변환된 데이터 저장: {target_fname}')\n",
    "        df_num.to_csv(target_fname, sep=',', index=False)\n",
    "\n",
    "    if target:\n",
    "        return df_num, y, subs\n",
    "    return df_num, subs\n"
   ]
  },
  {
   "cell_type": "code",
   "execution_count": 12,
   "metadata": {},
   "outputs": [],
   "source": [
    "cat_names = ['loan_status']"
   ]
  },
  {
   "cell_type": "code",
   "execution_count": 13,
   "metadata": {},
   "outputs": [
    {
     "name": "stdout",
     "output_type": "stream",
     "text": [
      "Basepath: ./data/filter/filter\n",
      "Source file: ./data/filter/filter.csv\n",
      "✅ 타겟 레이블 파일 저장: ./data/filter/filter_labels.csv\n",
      "✅ 변환된 데이터 저장: ./data/filter/filter_encoding.csv\n"
     ]
    },
    {
     "name": "stderr",
     "output_type": "stream",
     "text": [
      "c:\\Users\\GCU\\anaconda3\\envs\\tablegan\\lib\\site-packages\\ipykernel_launcher.py:1: FutureWarning: The error_bad_lines argument has been deprecated and will be removed in a future version.\n",
      "\n",
      "\n",
      "  \"\"\"Entry point for launching an IPython kernel.\n"
     ]
    },
    {
     "data": {
      "text/html": [
       "<div>\n",
       "<style scoped>\n",
       "    .dataframe tbody tr th:only-of-type {\n",
       "        vertical-align: middle;\n",
       "    }\n",
       "\n",
       "    .dataframe tbody tr th {\n",
       "        vertical-align: top;\n",
       "    }\n",
       "\n",
       "    .dataframe thead th {\n",
       "        text-align: right;\n",
       "    }\n",
       "</style>\n",
       "<table border=\"1\" class=\"dataframe\">\n",
       "  <thead>\n",
       "    <tr style=\"text-align: right;\">\n",
       "      <th></th>\n",
       "      <th>last_fico_range_high</th>\n",
       "      <th>mo_sin_old_rev_tl_op</th>\n",
       "      <th>int_rate</th>\n",
       "      <th>annual_inc</th>\n",
       "      <th>dti</th>\n",
       "      <th>zip_code</th>\n",
       "      <th>installment</th>\n",
       "      <th>fico_range_low</th>\n",
       "      <th>total_rev_hi_lim</th>\n",
       "      <th>avg_cur_bal</th>\n",
       "      <th>bc_open_to_buy</th>\n",
       "      <th>revol_util</th>\n",
       "      <th>revol_bal</th>\n",
       "      <th>total_acc</th>\n",
       "      <th>credit_history_years</th>\n",
       "    </tr>\n",
       "  </thead>\n",
       "  <tbody>\n",
       "    <tr>\n",
       "      <th>0</th>\n",
       "      <td>579.0</td>\n",
       "      <td>112.0</td>\n",
       "      <td>0.1153</td>\n",
       "      <td>38000.0</td>\n",
       "      <td>26.34</td>\n",
       "      <td>846.0</td>\n",
       "      <td>277.12</td>\n",
       "      <td>660.0</td>\n",
       "      <td>9000.0</td>\n",
       "      <td>5176.0</td>\n",
       "      <td>1801.000000</td>\n",
       "      <td>0.635</td>\n",
       "      <td>5713.0</td>\n",
       "      <td>10.0</td>\n",
       "      <td>10</td>\n",
       "    </tr>\n",
       "    <tr>\n",
       "      <th>1</th>\n",
       "      <td>584.0</td>\n",
       "      <td>39.0</td>\n",
       "      <td>0.1824</td>\n",
       "      <td>50300.0</td>\n",
       "      <td>20.07</td>\n",
       "      <td>24.0</td>\n",
       "      <td>590.25</td>\n",
       "      <td>720.0</td>\n",
       "      <td>5900.0</td>\n",
       "      <td>6294.0</td>\n",
       "      <td>11065.920936</td>\n",
       "      <td>0.201</td>\n",
       "      <td>1184.0</td>\n",
       "      <td>12.0</td>\n",
       "      <td>3</td>\n",
       "    </tr>\n",
       "    <tr>\n",
       "      <th>2</th>\n",
       "      <td>559.0</td>\n",
       "      <td>122.0</td>\n",
       "      <td>0.1399</td>\n",
       "      <td>56000.0</td>\n",
       "      <td>27.93</td>\n",
       "      <td>483.0</td>\n",
       "      <td>239.21</td>\n",
       "      <td>665.0</td>\n",
       "      <td>3000.0</td>\n",
       "      <td>2336.0</td>\n",
       "      <td>0.000000</td>\n",
       "      <td>0.970</td>\n",
       "      <td>3008.0</td>\n",
       "      <td>31.0</td>\n",
       "      <td>11</td>\n",
       "    </tr>\n",
       "    <tr>\n",
       "      <th>3</th>\n",
       "      <td>664.0</td>\n",
       "      <td>183.0</td>\n",
       "      <td>0.1311</td>\n",
       "      <td>76000.0</td>\n",
       "      <td>25.69</td>\n",
       "      <td>113.0</td>\n",
       "      <td>547.43</td>\n",
       "      <td>735.0</td>\n",
       "      <td>125600.0</td>\n",
       "      <td>7591.0</td>\n",
       "      <td>33170.000000</td>\n",
       "      <td>0.602</td>\n",
       "      <td>75614.0</td>\n",
       "      <td>19.0</td>\n",
       "      <td>16</td>\n",
       "    </tr>\n",
       "    <tr>\n",
       "      <th>4</th>\n",
       "      <td>629.0</td>\n",
       "      <td>249.0</td>\n",
       "      <td>0.1333</td>\n",
       "      <td>245000.0</td>\n",
       "      <td>13.59</td>\n",
       "      <td>891.0</td>\n",
       "      <td>802.29</td>\n",
       "      <td>680.0</td>\n",
       "      <td>57100.0</td>\n",
       "      <td>40926.0</td>\n",
       "      <td>1976.000000</td>\n",
       "      <td>0.806</td>\n",
       "      <td>46024.0</td>\n",
       "      <td>28.0</td>\n",
       "      <td>21</td>\n",
       "    </tr>\n",
       "  </tbody>\n",
       "</table>\n",
       "</div>"
      ],
      "text/plain": [
       "   last_fico_range_high  mo_sin_old_rev_tl_op  int_rate  annual_inc    dti  \\\n",
       "0                 579.0                 112.0    0.1153     38000.0  26.34   \n",
       "1                 584.0                  39.0    0.1824     50300.0  20.07   \n",
       "2                 559.0                 122.0    0.1399     56000.0  27.93   \n",
       "3                 664.0                 183.0    0.1311     76000.0  25.69   \n",
       "4                 629.0                 249.0    0.1333    245000.0  13.59   \n",
       "\n",
       "   zip_code  installment  fico_range_low  total_rev_hi_lim  avg_cur_bal  \\\n",
       "0     846.0       277.12           660.0            9000.0       5176.0   \n",
       "1      24.0       590.25           720.0            5900.0       6294.0   \n",
       "2     483.0       239.21           665.0            3000.0       2336.0   \n",
       "3     113.0       547.43           735.0          125600.0       7591.0   \n",
       "4     891.0       802.29           680.0           57100.0      40926.0   \n",
       "\n",
       "   bc_open_to_buy  revol_util  revol_bal  total_acc  credit_history_years  \n",
       "0     1801.000000       0.635     5713.0       10.0                    10  \n",
       "1    11065.920936       0.201     1184.0       12.0                     3  \n",
       "2        0.000000       0.970     3008.0       31.0                    11  \n",
       "3    33170.000000       0.602    75614.0       19.0                    16  \n",
       "4     1976.000000       0.806    46024.0       28.0                    21  "
      ]
     },
     "execution_count": 13,
     "metadata": {},
     "output_type": "execute_result"
    }
   ],
   "source": [
    "a, b, c = transform('filter', suffix='', to_disk=True, target='loan_status',cat_names=cat_names)\n",
    "a.head()"
   ]
  },
  {
   "cell_type": "code",
   "execution_count": 14,
   "metadata": {},
   "outputs": [
    {
     "data": {
      "text/plain": [
       "7457"
      ]
     },
     "metadata": {},
     "output_type": "display_data"
    }
   ],
   "source": [
    "dataset = pd.read_csv(\"data/filter/filter_labels.csv\")\n",
    "display(len(dataset))"
   ]
  },
  {
   "cell_type": "code",
   "execution_count": 15,
   "metadata": {},
   "outputs": [
    {
     "name": "stdout",
     "output_type": "stream",
     "text": [
      "loan_status \n",
      " [0] \n",
      "\n"
     ]
    }
   ],
   "source": [
    "for col in dataset.columns:\n",
    "    print(col, \"\\n\", dataset[col].unique(),'\\n')"
   ]
  }
 ],
 "metadata": {
  "kernelspec": {
   "display_name": "tablegan",
   "language": "python",
   "name": "python3"
  },
  "language_info": {
   "codemirror_mode": {
    "name": "ipython",
    "version": 3
   },
   "file_extension": ".py",
   "mimetype": "text/x-python",
   "name": "python",
   "nbconvert_exporter": "python",
   "pygments_lexer": "ipython3",
   "version": "3.7.12"
  }
 },
 "nbformat": 4,
 "nbformat_minor": 2
}

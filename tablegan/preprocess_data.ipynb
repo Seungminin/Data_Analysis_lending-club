{
 "cells": [
  {
   "cell_type": "code",
   "execution_count": 1,
   "metadata": {},
   "outputs": [],
   "source": [
    "import pandas as pd\n",
    "import pickle\n",
    "import os"
   ]
  },
  {
   "cell_type": "code",
   "execution_count": 2,
   "metadata": {},
   "outputs": [
    {
     "name": "stdout",
     "output_type": "stream",
     "text": [
      "C:\\Users\\GCU\\Lending_club\\Data_Analysis_lending-club\\tablegan\n"
     ]
    }
   ],
   "source": [
    "%cd \"C:/Users/GCU/Lending_club/Data_Analysis_lending-club/tablegan\" "
   ]
  },
  {
   "cell_type": "code",
   "execution_count": 3,
   "metadata": {},
   "outputs": [],
   "source": [
    "def cat_to_num(df, sep=',', cat_names=None):\n",
    "    if cat_names is None: cat_names = []\n",
    "    subs = {}\n",
    "    df_num = df.copy()\n",
    "    \n",
    "    # TRANSFORM TO SET TO PREVENT DOUBLE FACTORIZATION\n",
    "    for z in set(df_num.select_dtypes(include=['object']).columns.tolist() + cat_names):\n",
    "        y, label = pd.factorize(df[z])\n",
    "        subs[z] = {'y': y, 'label': label}\n",
    "        df_num[z] = y\n",
    "    return df_num, subs"
   ]
  },
  {
   "cell_type": "code",
   "execution_count": 4,
   "metadata": {},
   "outputs": [],
   "source": [
    "def transform(ds: str, suffix: str = '', sep: str = ',', ext: str = 'csv',\n",
    "              drop: list = None, cat_names: list = None, to_disk: bool = True,\n",
    "              target: str = '', d_basepath: str = 'data'):\n",
    "    \n",
    "    if target == '':\n",
    "        target = False\n",
    "    if drop is None:\n",
    "        drop = []\n",
    "    if cat_names is None:\n",
    "        cat_names = []\n",
    "\n",
    "    base_fname = f'./{d_basepath}/{ds}/{ds}'\n",
    "    source_fname = f'{base_fname}{suffix}.{ext}'\n",
    "    print(f'Basepath: {base_fname}')\n",
    "    print(f'Source file: {source_fname}')\n",
    "\n",
    "    # ✅ CSV 파일 읽기 및 오류 처리\n",
    "    try:\n",
    "        df = pd.read_csv(source_fname, sep=sep, quotechar='\"', error_bad_lines=False)\n",
    "    except pd.errors.ParserError as e:\n",
    "        print(f\"❌ CSV 파싱 오류: {e}\")\n",
    "        return None, None\n",
    "    except Exception as e:\n",
    "        print(f\"❌ CSV 파일 로드 중 오류 발생: {e}\")\n",
    "        return None, None\n",
    "\n",
    "    # ✅ 문자열 내 쉼표 및 리스트 형태 처리\n",
    "    def convert_to_number(value):\n",
    "        if isinstance(value, str):\n",
    "            value = value.strip().replace('\"', '')\n",
    "            try:\n",
    "                # 문자열 리스트 처리: \"[1.0, 2.0]\" → [1.0, 2.0]\n",
    "                if value.startswith('[') and value.endswith(']'):\n",
    "                    return ast.literal_eval(value)\n",
    "                return float(value)  # 일반 숫자 문자열 처리\n",
    "            except Exception:\n",
    "                return value  # 변환 실패 시 원래 값 반환\n",
    "        return value\n",
    "\n",
    "    df = df.applymap(convert_to_number)\n",
    "\n",
    "    # ✅ 열 삭제\n",
    "    df = df.drop(drop, axis=1, errors='ignore')\n",
    "\n",
    "    # ✅ 범주형 변수 숫자 변환\n",
    "    try:\n",
    "        df_num, subs = cat_to_num(df, cat_names=cat_names)\n",
    "    except Exception as e:\n",
    "        print(f\"❌ cat_to_num 함수 오류: {e}\")\n",
    "        return None, None\n",
    "\n",
    "    # ✅ 변환 정보 저장\n",
    "    try:\n",
    "        with open(f'{d_basepath}/{ds}/subs.pkl', 'wb') as f:\n",
    "            pickle.dump(subs, f)\n",
    "    except Exception as e:\n",
    "        print(f\"❌ subs.pkl 저장 오류: {e}\")\n",
    "\n",
    "    # ✅ 타겟 분리 및 저장\n",
    "    if target:\n",
    "        y = df_num[target]\n",
    "        df_num = df_num.drop([target], axis=1)\n",
    "\n",
    "    if to_disk:\n",
    "        if target:\n",
    "            target_fname_y = f'{base_fname}_labels.csv'\n",
    "            print(f'✅ 타겟 레이블 파일 저장: {target_fname_y}')\n",
    "            y.to_csv(target_fname_y, sep=',', index=False)\n",
    "        \n",
    "        target_fname = f'{base_fname}_encoding.csv'\n",
    "        print(f'✅ 변환된 데이터 저장: {target_fname}')\n",
    "        df_num.to_csv(target_fname, sep=',', index=False)\n",
    "\n",
    "    if target:\n",
    "        return df_num, y, subs\n",
    "    return df_num, subs\n"
   ]
  },
  {
   "cell_type": "code",
   "execution_count": 5,
   "metadata": {},
   "outputs": [],
   "source": [
    "cat_names = ['loan_status']"
   ]
  },
  {
   "cell_type": "code",
   "execution_count": 6,
   "metadata": {},
   "outputs": [
    {
     "name": "stdout",
     "output_type": "stream",
     "text": [
      "Basepath: ./data/oversampled/oversampled\n",
      "Source file: ./data/oversampled/oversampled.csv\n"
     ]
    },
    {
     "name": "stderr",
     "output_type": "stream",
     "text": [
      "c:\\Users\\GCU\\anaconda3\\envs\\tablegan\\lib\\site-packages\\ipykernel_launcher.py:1: FutureWarning: The error_bad_lines argument has been deprecated and will be removed in a future version.\n",
      "\n",
      "\n",
      "  \"\"\"Entry point for launching an IPython kernel.\n"
     ]
    },
    {
     "name": "stdout",
     "output_type": "stream",
     "text": [
      "✅ 타겟 레이블 파일 저장: ./data/oversampled/oversampled_labels.csv\n",
      "✅ 변환된 데이터 저장: ./data/oversampled/oversampled_encoding.csv\n"
     ]
    },
    {
     "data": {
      "text/html": [
       "<div>\n",
       "<style scoped>\n",
       "    .dataframe tbody tr th:only-of-type {\n",
       "        vertical-align: middle;\n",
       "    }\n",
       "\n",
       "    .dataframe tbody tr th {\n",
       "        vertical-align: top;\n",
       "    }\n",
       "\n",
       "    .dataframe thead th {\n",
       "        text-align: right;\n",
       "    }\n",
       "</style>\n",
       "<table border=\"1\" class=\"dataframe\">\n",
       "  <thead>\n",
       "    <tr style=\"text-align: right;\">\n",
       "      <th></th>\n",
       "      <th>last_fico_range_high</th>\n",
       "      <th>mo_sin_old_rev_tl_op</th>\n",
       "      <th>int_rate</th>\n",
       "      <th>annual_inc</th>\n",
       "      <th>dti</th>\n",
       "      <th>installment</th>\n",
       "      <th>zip_code</th>\n",
       "      <th>revol_util</th>\n",
       "      <th>fico_range_low</th>\n",
       "      <th>total_rev_hi_lim</th>\n",
       "      <th>revol_bal</th>\n",
       "      <th>bc_util</th>\n",
       "      <th>avg_cur_bal</th>\n",
       "      <th>total_il_high_credit_limit</th>\n",
       "      <th>grade</th>\n",
       "      <th>total_pymnt</th>\n",
       "      <th>total_pymnt_inv</th>\n",
       "      <th>loan_amnt</th>\n",
       "      <th>credit_history_years</th>\n",
       "      <th>term_months</th>\n",
       "    </tr>\n",
       "  </thead>\n",
       "  <tbody>\n",
       "    <tr>\n",
       "      <th>0</th>\n",
       "      <td>604.0</td>\n",
       "      <td>206.0</td>\n",
       "      <td>0.2449</td>\n",
       "      <td>67500.0</td>\n",
       "      <td>15.81</td>\n",
       "      <td>492.45</td>\n",
       "      <td>301.0</td>\n",
       "      <td>0.396</td>\n",
       "      <td>675.0</td>\n",
       "      <td>53300.0</td>\n",
       "      <td>21088.0</td>\n",
       "      <td>39.4</td>\n",
       "      <td>6661.0</td>\n",
       "      <td>79774.0</td>\n",
       "      <td>4</td>\n",
       "      <td>12284.92</td>\n",
       "      <td>12284.92</td>\n",
       "      <td>16950.0</td>\n",
       "      <td>17</td>\n",
       "      <td>60</td>\n",
       "    </tr>\n",
       "    <tr>\n",
       "      <th>1</th>\n",
       "      <td>559.0</td>\n",
       "      <td>315.0</td>\n",
       "      <td>0.2049</td>\n",
       "      <td>46000.0</td>\n",
       "      <td>13.75</td>\n",
       "      <td>636.04</td>\n",
       "      <td>27.0</td>\n",
       "      <td>0.471</td>\n",
       "      <td>680.0</td>\n",
       "      <td>32200.0</td>\n",
       "      <td>15158.0</td>\n",
       "      <td>44.5</td>\n",
       "      <td>1684.0</td>\n",
       "      <td>0.0</td>\n",
       "      <td>4</td>\n",
       "      <td>19664.06</td>\n",
       "      <td>19664.06</td>\n",
       "      <td>17000.0</td>\n",
       "      <td>26</td>\n",
       "      <td>36</td>\n",
       "    </tr>\n",
       "    <tr>\n",
       "      <th>2</th>\n",
       "      <td>499.0</td>\n",
       "      <td>161.0</td>\n",
       "      <td>0.1824</td>\n",
       "      <td>85000.0</td>\n",
       "      <td>19.41</td>\n",
       "      <td>306.30</td>\n",
       "      <td>330.0</td>\n",
       "      <td>0.447</td>\n",
       "      <td>690.0</td>\n",
       "      <td>22500.0</td>\n",
       "      <td>10057.0</td>\n",
       "      <td>66.4</td>\n",
       "      <td>6208.0</td>\n",
       "      <td>59042.0</td>\n",
       "      <td>3</td>\n",
       "      <td>3020.87</td>\n",
       "      <td>3020.87</td>\n",
       "      <td>12000.0</td>\n",
       "      <td>13</td>\n",
       "      <td>60</td>\n",
       "    </tr>\n",
       "    <tr>\n",
       "      <th>3</th>\n",
       "      <td>664.0</td>\n",
       "      <td>103.0</td>\n",
       "      <td>0.1825</td>\n",
       "      <td>60000.0</td>\n",
       "      <td>25.91</td>\n",
       "      <td>543.15</td>\n",
       "      <td>67.0</td>\n",
       "      <td>0.366</td>\n",
       "      <td>695.0</td>\n",
       "      <td>55200.0</td>\n",
       "      <td>20224.0</td>\n",
       "      <td>41.4</td>\n",
       "      <td>10628.0</td>\n",
       "      <td>32477.0</td>\n",
       "      <td>3</td>\n",
       "      <td>3258.90</td>\n",
       "      <td>3258.90</td>\n",
       "      <td>21275.0</td>\n",
       "      <td>9</td>\n",
       "      <td>60</td>\n",
       "    </tr>\n",
       "    <tr>\n",
       "      <th>4</th>\n",
       "      <td>649.0</td>\n",
       "      <td>189.0</td>\n",
       "      <td>0.1561</td>\n",
       "      <td>195000.0</td>\n",
       "      <td>10.93</td>\n",
       "      <td>482.23</td>\n",
       "      <td>335.0</td>\n",
       "      <td>0.430</td>\n",
       "      <td>685.0</td>\n",
       "      <td>48200.0</td>\n",
       "      <td>20745.0</td>\n",
       "      <td>48.8</td>\n",
       "      <td>24979.0</td>\n",
       "      <td>100840.0</td>\n",
       "      <td>2</td>\n",
       "      <td>7365.55</td>\n",
       "      <td>7365.55</td>\n",
       "      <td>20000.0</td>\n",
       "      <td>15</td>\n",
       "      <td>60</td>\n",
       "    </tr>\n",
       "  </tbody>\n",
       "</table>\n",
       "</div>"
      ],
      "text/plain": [
       "   last_fico_range_high  mo_sin_old_rev_tl_op  int_rate  annual_inc    dti  \\\n",
       "0                 604.0                 206.0    0.2449     67500.0  15.81   \n",
       "1                 559.0                 315.0    0.2049     46000.0  13.75   \n",
       "2                 499.0                 161.0    0.1824     85000.0  19.41   \n",
       "3                 664.0                 103.0    0.1825     60000.0  25.91   \n",
       "4                 649.0                 189.0    0.1561    195000.0  10.93   \n",
       "\n",
       "   installment  zip_code  revol_util  fico_range_low  total_rev_hi_lim  \\\n",
       "0       492.45     301.0       0.396           675.0           53300.0   \n",
       "1       636.04      27.0       0.471           680.0           32200.0   \n",
       "2       306.30     330.0       0.447           690.0           22500.0   \n",
       "3       543.15      67.0       0.366           695.0           55200.0   \n",
       "4       482.23     335.0       0.430           685.0           48200.0   \n",
       "\n",
       "   revol_bal  bc_util  avg_cur_bal  total_il_high_credit_limit  grade  \\\n",
       "0    21088.0     39.4       6661.0                     79774.0      4   \n",
       "1    15158.0     44.5       1684.0                         0.0      4   \n",
       "2    10057.0     66.4       6208.0                     59042.0      3   \n",
       "3    20224.0     41.4      10628.0                     32477.0      3   \n",
       "4    20745.0     48.8      24979.0                    100840.0      2   \n",
       "\n",
       "   total_pymnt  total_pymnt_inv  loan_amnt  credit_history_years  term_months  \n",
       "0     12284.92         12284.92    16950.0                    17           60  \n",
       "1     19664.06         19664.06    17000.0                    26           36  \n",
       "2      3020.87          3020.87    12000.0                    13           60  \n",
       "3      3258.90          3258.90    21275.0                     9           60  \n",
       "4      7365.55          7365.55    20000.0                    15           60  "
      ]
     },
     "execution_count": 6,
     "metadata": {},
     "output_type": "execute_result"
    }
   ],
   "source": [
    "a, b, c = transform('oversampled', suffix='', to_disk=True, target='loan_status',cat_names=cat_names)\n",
    "a.head()"
   ]
  },
  {
   "cell_type": "code",
   "execution_count": 7,
   "metadata": {},
   "outputs": [
    {
     "data": {
      "text/plain": [
       "449334"
      ]
     },
     "metadata": {},
     "output_type": "display_data"
    }
   ],
   "source": [
    "dataset = pd.read_csv(\"data/oversampled/oversampled_labels.csv\")\n",
    "display(len(dataset))"
   ]
  },
  {
   "cell_type": "code",
   "execution_count": 9,
   "metadata": {},
   "outputs": [
    {
     "name": "stdout",
     "output_type": "stream",
     "text": [
      "loan_status \n",
      " [0] \n",
      "\n"
     ]
    }
   ],
   "source": [
    "for col in dataset.columns:\n",
    "    print(col, \"\\n\", dataset[col].unique(),'\\n')"
   ]
  }
 ],
 "metadata": {
  "kernelspec": {
   "display_name": "tablegan",
   "language": "python",
   "name": "python3"
  },
  "language_info": {
   "codemirror_mode": {
    "name": "ipython",
    "version": 3
   },
   "file_extension": ".py",
   "mimetype": "text/x-python",
   "name": "python",
   "nbconvert_exporter": "python",
   "pygments_lexer": "ipython3",
   "version": "3.7.12"
  }
 },
 "nbformat": 4,
 "nbformat_minor": 2
}

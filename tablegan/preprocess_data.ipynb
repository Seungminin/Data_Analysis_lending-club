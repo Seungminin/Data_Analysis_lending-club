{
 "cells": [
  {
   "cell_type": "code",
   "execution_count": 1,
   "metadata": {},
   "outputs": [],
   "source": [
    "import pandas as pd\n",
    "import pickle\n",
    "import os"
   ]
  },
  {
   "cell_type": "code",
   "execution_count": 2,
   "metadata": {},
   "outputs": [
    {
     "name": "stdout",
     "output_type": "stream",
     "text": [
      "C:\\Users\\GCU\\Lending_club\\Data_Analysis_lending-club\\tablegan\n"
     ]
    }
   ],
   "source": [
    "%cd \"C:/Users/GCU/Lending_club/Data_Analysis_lending-club/tablegan\" "
   ]
  },
  {
   "cell_type": "code",
   "execution_count": 3,
   "metadata": {},
   "outputs": [],
   "source": [
    "def cat_to_num(df, sep=',', cat_names=None):\n",
    "    if cat_names is None: cat_names = []\n",
    "    subs = {}\n",
    "    df_num = df.copy()\n",
    "    \n",
    "    # TRANSFORM TO SET TO PREVENT DOUBLE FACTORIZATION\n",
    "    for z in set(df_num.select_dtypes(include=['object']).columns.tolist() + cat_names):\n",
    "        y, label = pd.factorize(df[z])\n",
    "        subs[z] = {'y': y, 'label': label}\n",
    "        df_num[z] = y\n",
    "    return df_num, subs"
   ]
  },
  {
   "cell_type": "code",
   "execution_count": 4,
   "metadata": {},
   "outputs": [],
   "source": [
    "def transform(ds: str, suffix: str = '', sep: str = ',', ext: str = 'csv',\n",
    "              drop: list = None, cat_names: list = None, to_disk: bool = True,\n",
    "              target: str = '', d_basepath: str = 'data'):\n",
    "    \n",
    "    if target == '':\n",
    "        target = False\n",
    "    if drop is None:\n",
    "        drop = []\n",
    "    if cat_names is None:\n",
    "        cat_names = []\n",
    "\n",
    "    base_fname = f'./{d_basepath}/{ds}/{ds}'\n",
    "    source_fname = f'{base_fname}{suffix}.{ext}'\n",
    "    print(f'Basepath: {base_fname}')\n",
    "    print(f'Source file: {source_fname}')\n",
    "\n",
    "    # ✅ CSV 파일 읽기 및 오류 처리\n",
    "    try:\n",
    "        df = pd.read_csv(source_fname, sep=sep, quotechar='\"', error_bad_lines=False)\n",
    "    except pd.errors.ParserError as e:\n",
    "        print(f\"❌ CSV 파싱 오류: {e}\")\n",
    "        return None, None\n",
    "    except Exception as e:\n",
    "        print(f\"❌ CSV 파일 로드 중 오류 발생: {e}\")\n",
    "        return None, None\n",
    "\n",
    "    # ✅ 문자열 내 쉼표 및 리스트 형태 처리\n",
    "    def convert_to_number(value):\n",
    "        if isinstance(value, str):\n",
    "            value = value.strip().replace('\"', '')\n",
    "            try:\n",
    "                # 문자열 리스트 처리: \"[1.0, 2.0]\" → [1.0, 2.0]\n",
    "                if value.startswith('[') and value.endswith(']'):\n",
    "                    return ast.literal_eval(value)\n",
    "                return float(value)  # 일반 숫자 문자열 처리\n",
    "            except Exception:\n",
    "                return value  # 변환 실패 시 원래 값 반환\n",
    "        return value\n",
    "\n",
    "    df = df.applymap(convert_to_number)\n",
    "\n",
    "    # ✅ 열 삭제\n",
    "    df = df.drop(drop, axis=1, errors='ignore')\n",
    "\n",
    "    # ✅ 범주형 변수 숫자 변환\n",
    "    try:\n",
    "        df_num, subs = cat_to_num(df, cat_names=cat_names)\n",
    "    except Exception as e:\n",
    "        print(f\"❌ cat_to_num 함수 오류: {e}\")\n",
    "        return None, None\n",
    "\n",
    "    # ✅ 변환 정보 저장\n",
    "    try:\n",
    "        with open(f'{d_basepath}/{ds}/subs.pkl', 'wb') as f:\n",
    "            pickle.dump(subs, f)\n",
    "    except Exception as e:\n",
    "        print(f\"❌ subs.pkl 저장 오류: {e}\")\n",
    "\n",
    "    # ✅ 타겟 분리 및 저장\n",
    "    if target:\n",
    "        y = df_num[target]\n",
    "        df_num = df_num.drop([target], axis=1)\n",
    "\n",
    "    if to_disk:\n",
    "        if target:\n",
    "            target_fname_y = f'{base_fname}_labels.csv'\n",
    "            print(f'✅ 타겟 레이블 파일 저장: {target_fname_y}')\n",
    "            y.to_csv(target_fname_y, sep=',', index=False)\n",
    "        \n",
    "        target_fname = f'{base_fname}_encoding.csv'\n",
    "        print(f'✅ 변환된 데이터 저장: {target_fname}')\n",
    "        df_num.to_csv(target_fname, sep=',', index=False)\n",
    "\n",
    "    if target:\n",
    "        return df_num, y, subs\n",
    "    return df_num, subs\n"
   ]
  },
  {
   "cell_type": "code",
   "execution_count": 5,
   "metadata": {},
   "outputs": [],
   "source": [
    "cat_names = ['loan_status']"
   ]
  },
  {
   "cell_type": "code",
   "execution_count": 6,
   "metadata": {},
   "outputs": [
    {
     "name": "stdout",
     "output_type": "stream",
     "text": [
      "Basepath: ./data/filter2/filter2\n",
      "Source file: ./data/filter2/filter2.csv\n",
      "✅ 타겟 레이블 파일 저장: ./data/filter2/filter2_labels.csv\n",
      "✅ 변환된 데이터 저장: ./data/filter2/filter2_encoding.csv\n"
     ]
    },
    {
     "name": "stderr",
     "output_type": "stream",
     "text": [
      "c:\\Users\\GCU\\anaconda3\\envs\\tablegan\\lib\\site-packages\\ipykernel_launcher.py:1: FutureWarning: The error_bad_lines argument has been deprecated and will be removed in a future version.\n",
      "\n",
      "\n",
      "  \"\"\"Entry point for launching an IPython kernel.\n"
     ]
    },
    {
     "data": {
      "text/html": [
       "<div>\n",
       "<style scoped>\n",
       "    .dataframe tbody tr th:only-of-type {\n",
       "        vertical-align: middle;\n",
       "    }\n",
       "\n",
       "    .dataframe tbody tr th {\n",
       "        vertical-align: top;\n",
       "    }\n",
       "\n",
       "    .dataframe thead th {\n",
       "        text-align: right;\n",
       "    }\n",
       "</style>\n",
       "<table border=\"1\" class=\"dataframe\">\n",
       "  <thead>\n",
       "    <tr style=\"text-align: right;\">\n",
       "      <th></th>\n",
       "      <th>last_fico_range_high</th>\n",
       "      <th>mo_sin_old_rev_tl_op</th>\n",
       "      <th>int_rate</th>\n",
       "      <th>annual_inc</th>\n",
       "      <th>dti</th>\n",
       "      <th>zip_code</th>\n",
       "      <th>installment</th>\n",
       "      <th>fico_range_low</th>\n",
       "      <th>total_rev_hi_lim</th>\n",
       "      <th>avg_cur_bal</th>\n",
       "      <th>bc_open_to_buy</th>\n",
       "      <th>revol_util</th>\n",
       "      <th>revol_bal</th>\n",
       "      <th>total_acc</th>\n",
       "      <th>credit_history_years</th>\n",
       "    </tr>\n",
       "  </thead>\n",
       "  <tbody>\n",
       "    <tr>\n",
       "      <th>0</th>\n",
       "      <td>674.0</td>\n",
       "      <td>113.0</td>\n",
       "      <td>0.1602</td>\n",
       "      <td>40000.0</td>\n",
       "      <td>29.01</td>\n",
       "      <td>864.0</td>\n",
       "      <td>243.29</td>\n",
       "      <td>705.0</td>\n",
       "      <td>22100.0</td>\n",
       "      <td>7120.0</td>\n",
       "      <td>20133.0</td>\n",
       "      <td>0.017</td>\n",
       "      <td>367.0</td>\n",
       "      <td>30.0</td>\n",
       "      <td>9</td>\n",
       "    </tr>\n",
       "    <tr>\n",
       "      <th>1</th>\n",
       "      <td>654.0</td>\n",
       "      <td>122.0</td>\n",
       "      <td>0.1449</td>\n",
       "      <td>115000.0</td>\n",
       "      <td>19.64</td>\n",
       "      <td>798.0</td>\n",
       "      <td>376.37</td>\n",
       "      <td>670.0</td>\n",
       "      <td>73100.0</td>\n",
       "      <td>13934.0</td>\n",
       "      <td>7375.0</td>\n",
       "      <td>0.609</td>\n",
       "      <td>44511.0</td>\n",
       "      <td>29.0</td>\n",
       "      <td>11</td>\n",
       "    </tr>\n",
       "    <tr>\n",
       "      <th>2</th>\n",
       "      <td>674.0</td>\n",
       "      <td>106.0</td>\n",
       "      <td>0.1144</td>\n",
       "      <td>89000.0</td>\n",
       "      <td>7.67</td>\n",
       "      <td>827.0</td>\n",
       "      <td>609.53</td>\n",
       "      <td>670.0</td>\n",
       "      <td>24300.0</td>\n",
       "      <td>35933.0</td>\n",
       "      <td>5167.0</td>\n",
       "      <td>0.598</td>\n",
       "      <td>14542.0</td>\n",
       "      <td>27.0</td>\n",
       "      <td>13</td>\n",
       "    </tr>\n",
       "    <tr>\n",
       "      <th>3</th>\n",
       "      <td>664.0</td>\n",
       "      <td>183.0</td>\n",
       "      <td>0.1311</td>\n",
       "      <td>76000.0</td>\n",
       "      <td>25.69</td>\n",
       "      <td>113.0</td>\n",
       "      <td>547.43</td>\n",
       "      <td>735.0</td>\n",
       "      <td>125600.0</td>\n",
       "      <td>7591.0</td>\n",
       "      <td>33170.0</td>\n",
       "      <td>0.602</td>\n",
       "      <td>75614.0</td>\n",
       "      <td>19.0</td>\n",
       "      <td>16</td>\n",
       "    </tr>\n",
       "    <tr>\n",
       "      <th>4</th>\n",
       "      <td>694.0</td>\n",
       "      <td>77.0</td>\n",
       "      <td>0.1366</td>\n",
       "      <td>20000.0</td>\n",
       "      <td>7.82</td>\n",
       "      <td>334.0</td>\n",
       "      <td>170.07</td>\n",
       "      <td>670.0</td>\n",
       "      <td>5600.0</td>\n",
       "      <td>652.0</td>\n",
       "      <td>389.0</td>\n",
       "      <td>0.698</td>\n",
       "      <td>3911.0</td>\n",
       "      <td>10.0</td>\n",
       "      <td>7</td>\n",
       "    </tr>\n",
       "  </tbody>\n",
       "</table>\n",
       "</div>"
      ],
      "text/plain": [
       "   last_fico_range_high  mo_sin_old_rev_tl_op  int_rate  annual_inc    dti  \\\n",
       "0                 674.0                 113.0    0.1602     40000.0  29.01   \n",
       "1                 654.0                 122.0    0.1449    115000.0  19.64   \n",
       "2                 674.0                 106.0    0.1144     89000.0   7.67   \n",
       "3                 664.0                 183.0    0.1311     76000.0  25.69   \n",
       "4                 694.0                  77.0    0.1366     20000.0   7.82   \n",
       "\n",
       "   zip_code  installment  fico_range_low  total_rev_hi_lim  avg_cur_bal  \\\n",
       "0     864.0       243.29           705.0           22100.0       7120.0   \n",
       "1     798.0       376.37           670.0           73100.0      13934.0   \n",
       "2     827.0       609.53           670.0           24300.0      35933.0   \n",
       "3     113.0       547.43           735.0          125600.0       7591.0   \n",
       "4     334.0       170.07           670.0            5600.0        652.0   \n",
       "\n",
       "   bc_open_to_buy  revol_util  revol_bal  total_acc  credit_history_years  \n",
       "0         20133.0       0.017      367.0       30.0                     9  \n",
       "1          7375.0       0.609    44511.0       29.0                    11  \n",
       "2          5167.0       0.598    14542.0       27.0                    13  \n",
       "3         33170.0       0.602    75614.0       19.0                    16  \n",
       "4           389.0       0.698     3911.0       10.0                     7  "
      ]
     },
     "execution_count": 6,
     "metadata": {},
     "output_type": "execute_result"
    }
   ],
   "source": [
    "a, b, c = transform('filter2', suffix='', to_disk=True, target='loan_status',cat_names=cat_names)\n",
    "a.head()"
   ]
  },
  {
   "cell_type": "code",
   "execution_count": 8,
   "metadata": {},
   "outputs": [
    {
     "data": {
      "text/plain": [
       "11803"
      ]
     },
     "metadata": {},
     "output_type": "display_data"
    }
   ],
   "source": [
    "dataset = pd.read_csv(\"data/filter2/filter2_labels.csv\")\n",
    "display(len(dataset))"
   ]
  },
  {
   "cell_type": "code",
   "execution_count": 9,
   "metadata": {},
   "outputs": [
    {
     "name": "stdout",
     "output_type": "stream",
     "text": [
      "loan_status \n",
      " [0] \n",
      "\n"
     ]
    }
   ],
   "source": [
    "for col in dataset.columns:\n",
    "    print(col, \"\\n\", dataset[col].unique(),'\\n')"
   ]
  }
 ],
 "metadata": {
  "kernelspec": {
   "display_name": "tablegan",
   "language": "python",
   "name": "python3"
  },
  "language_info": {
   "codemirror_mode": {
    "name": "ipython",
    "version": 3
   },
   "file_extension": ".py",
   "mimetype": "text/x-python",
   "name": "python",
   "nbconvert_exporter": "python",
   "pygments_lexer": "ipython3",
   "version": "3.7.12"
  }
 },
 "nbformat": 4,
 "nbformat_minor": 2
}

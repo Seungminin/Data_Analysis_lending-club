{
 "cells": [
  {
   "cell_type": "code",
   "execution_count": 1,
   "metadata": {},
   "outputs": [],
   "source": [
    "import pandas as pd\n",
    "import pickle\n",
    "import os"
   ]
  },
  {
   "cell_type": "code",
   "execution_count": 2,
   "metadata": {},
   "outputs": [
    {
     "name": "stdout",
     "output_type": "stream",
     "text": [
      "C:\\Users\\GCU\\Lending_club\\Data_Analysis_lending-club\\tablegan\n"
     ]
    }
   ],
   "source": [
    "%cd \"C:/Users/GCU/Lending_club/Data_Analysis_lending-club/tablegan\" "
   ]
  },
  {
   "cell_type": "code",
   "execution_count": 3,
   "metadata": {},
   "outputs": [],
   "source": [
    "def cat_to_num(df, sep=',', cat_names=None):\n",
    "    if cat_names is None: cat_names = []\n",
    "    subs = {}\n",
    "    df_num = df.copy()\n",
    "    \n",
    "    # TRANSFORM TO SET TO PREVENT DOUBLE FACTORIZATION\n",
    "    for z in set(df_num.select_dtypes(include=['object']).columns.tolist() + cat_names):\n",
    "        y, label = pd.factorize(df[z])\n",
    "        subs[z] = {'y': y, 'label': label}\n",
    "        df_num[z] = y\n",
    "    return df_num, subs"
   ]
  },
  {
   "cell_type": "code",
   "execution_count": 4,
   "metadata": {},
   "outputs": [],
   "source": [
    "def transform(ds: str, suffix: str = '', sep: str = ',', ext: str = 'csv',\n",
    "              drop: list = None, cat_names: list = None, to_disk: bool = True,\n",
    "              target: str = '', d_basepath: str = 'data'):\n",
    "    \n",
    "    if target == '':\n",
    "        target = False\n",
    "    if drop is None:\n",
    "        drop = []\n",
    "    if cat_names is None:\n",
    "        cat_names = []\n",
    "\n",
    "    base_fname = f'./{d_basepath}/{ds}/{ds}'\n",
    "    source_fname = f'{base_fname}{suffix}.{ext}'\n",
    "    print(f'Basepath: {base_fname}')\n",
    "    print(f'Source file: {source_fname}')\n",
    "\n",
    "    # ✅ CSV 파일 읽기 및 오류 처리\n",
    "    try:\n",
    "        df = pd.read_csv(source_fname, sep=sep, quotechar='\"', error_bad_lines=False)\n",
    "    except pd.errors.ParserError as e:\n",
    "        print(f\"❌ CSV 파싱 오류: {e}\")\n",
    "        return None, None\n",
    "    except Exception as e:\n",
    "        print(f\"❌ CSV 파일 로드 중 오류 발생: {e}\")\n",
    "        return None, None\n",
    "\n",
    "    # ✅ 문자열 내 쉼표 및 리스트 형태 처리\n",
    "    def convert_to_number(value):\n",
    "        if isinstance(value, str):\n",
    "            value = value.strip().replace('\"', '')\n",
    "            try:\n",
    "                # 문자열 리스트 처리: \"[1.0, 2.0]\" → [1.0, 2.0]\n",
    "                if value.startswith('[') and value.endswith(']'):\n",
    "                    return ast.literal_eval(value)\n",
    "                return float(value)  # 일반 숫자 문자열 처리\n",
    "            except Exception:\n",
    "                return value  # 변환 실패 시 원래 값 반환\n",
    "        return value\n",
    "\n",
    "    df = df.applymap(convert_to_number)\n",
    "\n",
    "    # ✅ 열 삭제\n",
    "    df = df.drop(drop, axis=1, errors='ignore')\n",
    "\n",
    "    # ✅ 범주형 변수 숫자 변환\n",
    "    try:\n",
    "        df_num, subs = cat_to_num(df, cat_names=cat_names)\n",
    "    except Exception as e:\n",
    "        print(f\"❌ cat_to_num 함수 오류: {e}\")\n",
    "        return None, None\n",
    "\n",
    "    # ✅ 변환 정보 저장\n",
    "    try:\n",
    "        with open(f'{d_basepath}/{ds}/subs.pkl', 'wb') as f:\n",
    "            pickle.dump(subs, f)\n",
    "    except Exception as e:\n",
    "        print(f\"❌ subs.pkl 저장 오류: {e}\")\n",
    "\n",
    "    # ✅ 타겟 분리 및 저장\n",
    "    if target:\n",
    "        y = df_num[target]\n",
    "        df_num = df_num.drop([target], axis=1)\n",
    "\n",
    "    if to_disk:\n",
    "        if target:\n",
    "            target_fname_y = f'{base_fname}_labels.csv'\n",
    "            print(f'✅ 타겟 레이블 파일 저장: {target_fname_y}')\n",
    "            y.to_csv(target_fname_y, sep=',', index=False)\n",
    "        \n",
    "        target_fname = f'{base_fname}_encoding.csv'\n",
    "        print(f'✅ 변환된 데이터 저장: {target_fname}')\n",
    "        df_num.to_csv(target_fname, sep=',', index=False)\n",
    "\n",
    "    if target:\n",
    "        return df_num, y, subs\n",
    "    return df_num, subs\n"
   ]
  },
  {
   "cell_type": "code",
   "execution_count": 5,
   "metadata": {},
   "outputs": [],
   "source": [
    "cat_names = ['loan_status']"
   ]
  },
  {
   "cell_type": "code",
   "execution_count": 6,
   "metadata": {},
   "outputs": [
    {
     "name": "stdout",
     "output_type": "stream",
     "text": [
      "Basepath: ./data/test_A/test_A\n",
      "Source file: ./data/test_A/test_A.csv\n",
      "✅ 타겟 레이블 파일 저장: ./data/test_A/test_A_labels.csv\n",
      "✅ 변환된 데이터 저장: ./data/test_A/test_A_encoding.csv\n"
     ]
    },
    {
     "name": "stderr",
     "output_type": "stream",
     "text": [
      "c:\\Users\\GCU\\anaconda3\\envs\\tablegan\\lib\\site-packages\\ipykernel_launcher.py:1: FutureWarning: The error_bad_lines argument has been deprecated and will be removed in a future version.\n",
      "\n",
      "\n",
      "  \"\"\"Entry point for launching an IPython kernel.\n"
     ]
    },
    {
     "data": {
      "text/html": [
       "<div>\n",
       "<style scoped>\n",
       "    .dataframe tbody tr th:only-of-type {\n",
       "        vertical-align: middle;\n",
       "    }\n",
       "\n",
       "    .dataframe tbody tr th {\n",
       "        vertical-align: top;\n",
       "    }\n",
       "\n",
       "    .dataframe thead th {\n",
       "        text-align: right;\n",
       "    }\n",
       "</style>\n",
       "<table border=\"1\" class=\"dataframe\">\n",
       "  <thead>\n",
       "    <tr style=\"text-align: right;\">\n",
       "      <th></th>\n",
       "      <th>last_fico_range_high</th>\n",
       "      <th>mo_sin_old_rev_tl_op</th>\n",
       "      <th>int_rate</th>\n",
       "      <th>annual_inc</th>\n",
       "      <th>dti</th>\n",
       "      <th>zip_code</th>\n",
       "      <th>installment</th>\n",
       "      <th>fico_range_low</th>\n",
       "      <th>total_rev_hi_lim</th>\n",
       "      <th>avg_cur_bal</th>\n",
       "      <th>bc_open_to_buy</th>\n",
       "      <th>revol_util</th>\n",
       "      <th>revol_bal</th>\n",
       "      <th>total_acc</th>\n",
       "      <th>credit_history_years</th>\n",
       "    </tr>\n",
       "  </thead>\n",
       "  <tbody>\n",
       "    <tr>\n",
       "      <th>0</th>\n",
       "      <td>499.0</td>\n",
       "      <td>95.000000</td>\n",
       "      <td>0.735</td>\n",
       "      <td>60000.0</td>\n",
       "      <td>18.46</td>\n",
       "      <td>342.0</td>\n",
       "      <td>558.68</td>\n",
       "      <td>725.0</td>\n",
       "      <td>28900.00000</td>\n",
       "      <td>6175.000000</td>\n",
       "      <td>13933.0</td>\n",
       "      <td>0.421</td>\n",
       "      <td>12167.0</td>\n",
       "      <td>9.0</td>\n",
       "      <td>8</td>\n",
       "    </tr>\n",
       "    <tr>\n",
       "      <th>1</th>\n",
       "      <td>594.0</td>\n",
       "      <td>139.000000</td>\n",
       "      <td>0.789</td>\n",
       "      <td>50000.0</td>\n",
       "      <td>27.87</td>\n",
       "      <td>481.0</td>\n",
       "      <td>485.38</td>\n",
       "      <td>725.0</td>\n",
       "      <td>29000.00000</td>\n",
       "      <td>2463.000000</td>\n",
       "      <td>19962.0</td>\n",
       "      <td>0.301</td>\n",
       "      <td>8738.0</td>\n",
       "      <td>25.0</td>\n",
       "      <td>13</td>\n",
       "    </tr>\n",
       "    <tr>\n",
       "      <th>2</th>\n",
       "      <td>544.0</td>\n",
       "      <td>117.000000</td>\n",
       "      <td>0.735</td>\n",
       "      <td>64029.0</td>\n",
       "      <td>12.05</td>\n",
       "      <td>980.0</td>\n",
       "      <td>217.27</td>\n",
       "      <td>680.0</td>\n",
       "      <td>22200.00000</td>\n",
       "      <td>4159.000000</td>\n",
       "      <td>3330.0</td>\n",
       "      <td>0.398</td>\n",
       "      <td>8839.0</td>\n",
       "      <td>18.0</td>\n",
       "      <td>10</td>\n",
       "    </tr>\n",
       "    <tr>\n",
       "      <th>3</th>\n",
       "      <td>609.0</td>\n",
       "      <td>180.629118</td>\n",
       "      <td>0.662</td>\n",
       "      <td>67000.0</td>\n",
       "      <td>12.45</td>\n",
       "      <td>735.0</td>\n",
       "      <td>153.52</td>\n",
       "      <td>765.0</td>\n",
       "      <td>33823.97164</td>\n",
       "      <td>13588.188308</td>\n",
       "      <td>4503.0</td>\n",
       "      <td>0.348</td>\n",
       "      <td>4597.0</td>\n",
       "      <td>20.0</td>\n",
       "      <td>16</td>\n",
       "    </tr>\n",
       "    <tr>\n",
       "      <th>4</th>\n",
       "      <td>499.0</td>\n",
       "      <td>39.000000</td>\n",
       "      <td>0.746</td>\n",
       "      <td>35000.0</td>\n",
       "      <td>4.84</td>\n",
       "      <td>105.0</td>\n",
       "      <td>310.88</td>\n",
       "      <td>715.0</td>\n",
       "      <td>24900.00000</td>\n",
       "      <td>453.000000</td>\n",
       "      <td>16720.0</td>\n",
       "      <td>0.164</td>\n",
       "      <td>4079.0</td>\n",
       "      <td>12.0</td>\n",
       "      <td>3</td>\n",
       "    </tr>\n",
       "  </tbody>\n",
       "</table>\n",
       "</div>"
      ],
      "text/plain": [
       "   last_fico_range_high  mo_sin_old_rev_tl_op  int_rate  annual_inc    dti  \\\n",
       "0                 499.0             95.000000     0.735     60000.0  18.46   \n",
       "1                 594.0            139.000000     0.789     50000.0  27.87   \n",
       "2                 544.0            117.000000     0.735     64029.0  12.05   \n",
       "3                 609.0            180.629118     0.662     67000.0  12.45   \n",
       "4                 499.0             39.000000     0.746     35000.0   4.84   \n",
       "\n",
       "   zip_code  installment  fico_range_low  total_rev_hi_lim   avg_cur_bal  \\\n",
       "0     342.0       558.68           725.0       28900.00000   6175.000000   \n",
       "1     481.0       485.38           725.0       29000.00000   2463.000000   \n",
       "2     980.0       217.27           680.0       22200.00000   4159.000000   \n",
       "3     735.0       153.52           765.0       33823.97164  13588.188308   \n",
       "4     105.0       310.88           715.0       24900.00000    453.000000   \n",
       "\n",
       "   bc_open_to_buy  revol_util  revol_bal  total_acc  credit_history_years  \n",
       "0         13933.0       0.421    12167.0        9.0                     8  \n",
       "1         19962.0       0.301     8738.0       25.0                    13  \n",
       "2          3330.0       0.398     8839.0       18.0                    10  \n",
       "3          4503.0       0.348     4597.0       20.0                    16  \n",
       "4         16720.0       0.164     4079.0       12.0                     3  "
      ]
     },
     "execution_count": 6,
     "metadata": {},
     "output_type": "execute_result"
    }
   ],
   "source": [
    "a, b, c = transform('test_A', suffix='', to_disk=True, target='loan_status',cat_names=cat_names)\n",
    "a.head()"
   ]
  },
  {
   "cell_type": "code",
   "execution_count": 10,
   "metadata": {},
   "outputs": [
    {
     "data": {
      "text/plain": [
       "4546"
      ]
     },
     "metadata": {},
     "output_type": "display_data"
    }
   ],
   "source": [
    "dataset = pd.read_csv(\"data/test_A/test_A_labels.csv\")\n",
    "display(len(dataset))"
   ]
  },
  {
   "cell_type": "code",
   "execution_count": 9,
   "metadata": {},
   "outputs": [
    {
     "name": "stdout",
     "output_type": "stream",
     "text": [
      "loan_status \n",
      " [0] \n",
      "\n"
     ]
    }
   ],
   "source": [
    "for col in dataset.columns:\n",
    "    print(col, \"\\n\", dataset[col].unique(),'\\n')"
   ]
  }
 ],
 "metadata": {
  "kernelspec": {
   "display_name": "tablegan",
   "language": "python",
   "name": "python3"
  },
  "language_info": {
   "codemirror_mode": {
    "name": "ipython",
    "version": 3
   },
   "file_extension": ".py",
   "mimetype": "text/x-python",
   "name": "python",
   "nbconvert_exporter": "python",
   "pygments_lexer": "ipython3",
   "version": "3.7.12"
  }
 },
 "nbformat": 4,
 "nbformat_minor": 2
}
